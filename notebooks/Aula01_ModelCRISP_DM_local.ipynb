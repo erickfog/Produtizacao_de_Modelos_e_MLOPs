{
 "cells": [
  {
   "cell_type": "markdown",
   "id": "afbfb0d6",
   "metadata": {},
   "source": [
    "# PASSO 00 IMPORTS"
   ]
  },
  {
   "cell_type": "code",
   "execution_count": null,
   "id": "ad0eb614",
   "metadata": {},
   "outputs": [],
   "source": [
    "import pandas as pd\n",
    "import numpy as np\n",
    "import matplotlib.pyplot as plt\n",
    "from sklearn.linear_model import LinearRegression\n",
    "from sklearn.metrics import mean_squared_error, mean_absolute_error, r2_score\n",
    "import requests"
   ]
  },
  {
   "cell_type": "markdown",
   "id": "f4ab616a",
   "metadata": {},
   "source": [
    "# PASSO 01 DATA DESCRIPTION"
   ]
  },
  {
   "cell_type": "code",
   "execution_count": 90,
   "id": "0206b6ad",
   "metadata": {},
   "outputs": [],
   "source": [
    "def get_historical_data(coin, days):\n",
    "    url = f'https://api.coingecko.com/api/v3/coins/{coin}/market_chart?vs_currency=usd&days={days}'\n",
    "    try:\n",
    "        response = requests.get(url)\n",
    "        response.raise_for_status()\n",
    "        data = response.json()\n",
    "        prices = data['prices']\n",
    "        df = pd.DataFrame(prices, columns=[\"Timestamp\", \"Price (USD)\"])\n",
    "        df['Timestamp'] = pd.to_datetime(df['Timestamp'], unit='ms')\n",
    "        return df\n",
    "    except Exception as e:\n",
    "        st.error(f\"Erro ao buscar dados históricos: {e}\")\n",
    "        return pd.DataFrame()"
   ]
  },
  {
   "cell_type": "code",
   "execution_count": 91,
   "id": "85572c01",
   "metadata": {},
   "outputs": [],
   "source": [
    "historical_data = get_historical_data('bitcoin',days=30)\n",
    "historical_data.to_parquet('../data/raw/historical_data.parquet')"
   ]
  },
  {
   "cell_type": "code",
   "execution_count": 92,
   "id": "f3543296",
   "metadata": {},
   "outputs": [],
   "source": [
    "import pandas as pd\n",
    "from sklearn.model_selection import train_test_split\n",
    "from sklearn.preprocessing import StandardScaler\n",
    "\n",
    "# Carregar os dados (supondo que já tenha sido coletado)\n",
    "df_principal = pd.read_parquet('../data/raw/historical_data.parquet')"
   ]
  },
  {
   "cell_type": "markdown",
   "id": "033aa1ea",
   "metadata": {},
   "source": [
    "# FEATURE ENGINEERING"
   ]
  },
  {
   "cell_type": "code",
   "execution_count": 93,
   "id": "23890e74",
   "metadata": {},
   "outputs": [
    {
     "data": {
      "text/html": [
       "<div>\n",
       "<style scoped>\n",
       "    .dataframe tbody tr th:only-of-type {\n",
       "        vertical-align: middle;\n",
       "    }\n",
       "\n",
       "    .dataframe tbody tr th {\n",
       "        vertical-align: top;\n",
       "    }\n",
       "\n",
       "    .dataframe thead th {\n",
       "        text-align: right;\n",
       "    }\n",
       "</style>\n",
       "<table border=\"1\" class=\"dataframe\">\n",
       "  <thead>\n",
       "    <tr style=\"text-align: right;\">\n",
       "      <th></th>\n",
       "      <th>Timestamp</th>\n",
       "      <th>Price (USD)</th>\n",
       "    </tr>\n",
       "  </thead>\n",
       "  <tbody>\n",
       "    <tr>\n",
       "      <th>714</th>\n",
       "      <td>2025-02-07 18:04:23.151</td>\n",
       "      <td>97416.135935</td>\n",
       "    </tr>\n",
       "    <tr>\n",
       "      <th>715</th>\n",
       "      <td>2025-02-07 19:04:05.117</td>\n",
       "      <td>97758.337387</td>\n",
       "    </tr>\n",
       "    <tr>\n",
       "      <th>716</th>\n",
       "      <td>2025-02-07 20:04:14.604</td>\n",
       "      <td>96896.289820</td>\n",
       "    </tr>\n",
       "    <tr>\n",
       "      <th>717</th>\n",
       "      <td>2025-02-07 21:03:42.904</td>\n",
       "      <td>95746.873954</td>\n",
       "    </tr>\n",
       "    <tr>\n",
       "      <th>718</th>\n",
       "      <td>2025-02-07 22:07:44.000</td>\n",
       "      <td>95670.428725</td>\n",
       "    </tr>\n",
       "  </tbody>\n",
       "</table>\n",
       "</div>"
      ],
      "text/plain": [
       "                  Timestamp   Price (USD)\n",
       "714 2025-02-07 18:04:23.151  97416.135935\n",
       "715 2025-02-07 19:04:05.117  97758.337387\n",
       "716 2025-02-07 20:04:14.604  96896.289820\n",
       "717 2025-02-07 21:03:42.904  95746.873954\n",
       "718 2025-02-07 22:07:44.000  95670.428725"
      ]
     },
     "execution_count": 93,
     "metadata": {},
     "output_type": "execute_result"
    }
   ],
   "source": [
    "df = df_principal.copy()\n",
    "df.tail()"
   ]
  },
  {
   "cell_type": "code",
   "execution_count": 94,
   "id": "e9eb8b79",
   "metadata": {},
   "outputs": [
    {
     "data": {
      "text/html": [
       "<div>\n",
       "<style scoped>\n",
       "    .dataframe tbody tr th:only-of-type {\n",
       "        vertical-align: middle;\n",
       "    }\n",
       "\n",
       "    .dataframe tbody tr th {\n",
       "        vertical-align: top;\n",
       "    }\n",
       "\n",
       "    .dataframe thead th {\n",
       "        text-align: right;\n",
       "    }\n",
       "</style>\n",
       "<table border=\"1\" class=\"dataframe\">\n",
       "  <thead>\n",
       "    <tr style=\"text-align: right;\">\n",
       "      <th></th>\n",
       "      <th>timestamp</th>\n",
       "      <th>price (usd)</th>\n",
       "    </tr>\n",
       "  </thead>\n",
       "  <tbody>\n",
       "    <tr>\n",
       "      <th>0</th>\n",
       "      <td>2025-01-08 22:04:00.926</td>\n",
       "      <td>94477.562204</td>\n",
       "    </tr>\n",
       "    <tr>\n",
       "      <th>1</th>\n",
       "      <td>2025-01-08 23:03:48.617</td>\n",
       "      <td>95292.195947</td>\n",
       "    </tr>\n",
       "    <tr>\n",
       "      <th>2</th>\n",
       "      <td>2025-01-09 00:03:53.489</td>\n",
       "      <td>95031.897279</td>\n",
       "    </tr>\n",
       "    <tr>\n",
       "      <th>3</th>\n",
       "      <td>2025-01-09 01:03:37.169</td>\n",
       "      <td>95105.946616</td>\n",
       "    </tr>\n",
       "    <tr>\n",
       "      <th>4</th>\n",
       "      <td>2025-01-09 02:00:33.912</td>\n",
       "      <td>94981.775103</td>\n",
       "    </tr>\n",
       "    <tr>\n",
       "      <th>...</th>\n",
       "      <td>...</td>\n",
       "      <td>...</td>\n",
       "    </tr>\n",
       "    <tr>\n",
       "      <th>714</th>\n",
       "      <td>2025-02-07 18:04:23.151</td>\n",
       "      <td>97416.135935</td>\n",
       "    </tr>\n",
       "    <tr>\n",
       "      <th>715</th>\n",
       "      <td>2025-02-07 19:04:05.117</td>\n",
       "      <td>97758.337387</td>\n",
       "    </tr>\n",
       "    <tr>\n",
       "      <th>716</th>\n",
       "      <td>2025-02-07 20:04:14.604</td>\n",
       "      <td>96896.289820</td>\n",
       "    </tr>\n",
       "    <tr>\n",
       "      <th>717</th>\n",
       "      <td>2025-02-07 21:03:42.904</td>\n",
       "      <td>95746.873954</td>\n",
       "    </tr>\n",
       "    <tr>\n",
       "      <th>718</th>\n",
       "      <td>2025-02-07 22:07:44.000</td>\n",
       "      <td>95670.428725</td>\n",
       "    </tr>\n",
       "  </tbody>\n",
       "</table>\n",
       "<p>719 rows × 2 columns</p>\n",
       "</div>"
      ],
      "text/plain": [
       "                  timestamp   price (usd)\n",
       "0   2025-01-08 22:04:00.926  94477.562204\n",
       "1   2025-01-08 23:03:48.617  95292.195947\n",
       "2   2025-01-09 00:03:53.489  95031.897279\n",
       "3   2025-01-09 01:03:37.169  95105.946616\n",
       "4   2025-01-09 02:00:33.912  94981.775103\n",
       "..                      ...           ...\n",
       "714 2025-02-07 18:04:23.151  97416.135935\n",
       "715 2025-02-07 19:04:05.117  97758.337387\n",
       "716 2025-02-07 20:04:14.604  96896.289820\n",
       "717 2025-02-07 21:03:42.904  95746.873954\n",
       "718 2025-02-07 22:07:44.000  95670.428725\n",
       "\n",
       "[719 rows x 2 columns]"
      ]
     },
     "execution_count": 94,
     "metadata": {},
     "output_type": "execute_result"
    }
   ],
   "source": [
    "df = df.rename(columns={\"Timestamp\":\"timestamp\",\"Price (USD)\":\"price (usd)\"})\n",
    "df"
   ]
  },
  {
   "cell_type": "code",
   "execution_count": 95,
   "id": "b66fffe4",
   "metadata": {},
   "outputs": [],
   "source": [
    "df['day_of_week'] = df['timestamp'].dt.dayofweek\n",
    "\n",
    "\n",
    "# Extrair o número do dia no mês\n",
    "df['day_of_month'] = df['timestamp'].dt.day"
   ]
  },
  {
   "cell_type": "code",
   "execution_count": 96,
   "id": "c6995d9f",
   "metadata": {},
   "outputs": [],
   "source": [
    "# Média móvel de 7 dias (curto prazo)\n",
    "df['moving_avg_7'] = df['price (usd)'].rolling(window=7).mean()\n",
    "\n",
    "# Média móvel de 30 dias (médio prazo)\n",
    "df['moving_avg_30'] = df['price (usd)'].rolling(window=30).mean()\n",
    "\n",
    "# Média móvel de 90 dias (longo prazo)\n",
    "df['moving_avg_90'] = df['price (usd)'].rolling(window=90).mean()"
   ]
  },
  {
   "cell_type": "code",
   "execution_count": 97,
   "id": "76f3bd08",
   "metadata": {},
   "outputs": [],
   "source": [
    "# Calcular a variação percentual diária (retorno)\n",
    "df['daily_return'] = df['price (usd)'].pct_change()\n",
    "\n",
    "# Calcular a variação absoluta diária\n",
    "df['daily_return_abs'] = df['price (usd)'].diff()"
   ]
  },
  {
   "cell_type": "code",
   "execution_count": 98,
   "id": "5e6ee270",
   "metadata": {},
   "outputs": [],
   "source": [
    "df['volatility'] = df['daily_return'].rolling(window=30).std()"
   ]
  },
  {
   "cell_type": "code",
   "execution_count": 99,
   "id": "bf5abd9f",
   "metadata": {},
   "outputs": [],
   "source": [
    "# Função para calcular o RSI\n",
    "def calculate_rsi(data, window):\n",
    "    delta = data.diff()\n",
    "    gain = (delta.where(delta > 0, 0)).rolling(window=window).mean()\n",
    "    loss = (-delta.where(delta < 0, 0)).rolling(window=window).mean()\n",
    "    rs = gain / loss\n",
    "    return 100 - (100 / (1 + rs))\n",
    "\n",
    "# Calcular o RSI de 14 dias\n",
    "df['RSI_14'] = calculate_rsi(df['price (usd)'], window=14)"
   ]
  },
  {
   "cell_type": "code",
   "execution_count": 100,
   "id": "85bbbf54",
   "metadata": {},
   "outputs": [],
   "source": [
    "# Média exponencial de 7 dias\n",
    "df['ema_7'] = df['price (usd)'].ewm(span=7, adjust=False).mean()\n",
    "\n",
    "# Média exponencial de 30 dias\n",
    "df['ema_30'] = df['price (usd)'].ewm(span=30, adjust=False).mean()"
   ]
  },
  {
   "cell_type": "markdown",
   "id": "0f767b68",
   "metadata": {},
   "source": [
    "# Variable Filtering"
   ]
  },
  {
   "cell_type": "code",
   "execution_count": 102,
   "id": "6fc8e750",
   "metadata": {},
   "outputs": [],
   "source": [
    "df = df.dropna()"
   ]
  },
  {
   "cell_type": "code",
   "execution_count": 104,
   "id": "2b51385c",
   "metadata": {},
   "outputs": [
    {
     "name": "stdout",
     "output_type": "stream",
     "text": [
      "    day_of_week  day_of_month  moving_avg_7  moving_avg_30  moving_avg_90\n",
      "89            6            12  94255.020324   94409.869845   94120.443525\n",
      "90            6            12  94382.332934   94432.802425   94126.380649\n",
      "91            6            12  94537.085908   94448.144608   94122.474207\n",
      "92            6            12  94700.381243   94465.779783   94123.416097\n",
      "93            6            12  94802.511388   94477.924626   94121.335772\n"
     ]
    }
   ],
   "source": [
    "# Lista das variáveis derivadas\n",
    "derived_columns = [\n",
    "    'day_of_week',  'day_of_month', \n",
    "    'moving_avg_7', 'moving_avg_30', 'moving_avg_90'\n",
    "]\n",
    "\n",
    "# Filtrando apenas as variáveis derivadas\n",
    "df_derived = df[derived_columns]\n",
    "\n",
    "# Exibindo as primeiras linhas das variáveis derivadas\n",
    "print(df_derived.head())"
   ]
  },
  {
   "cell_type": "code",
   "execution_count": 105,
   "id": "12a4c3ca",
   "metadata": {},
   "outputs": [],
   "source": [
    "# Separar variáveis independentes (apenas as derivadas)\n",
    "X_derived = df_derived\n",
    "\n",
    "# Variável dependente (preço)\n",
    "y = df['price (usd)']\n",
    "\n",
    "# Dividir em treino e teste\n",
    "X_train, X_test, y_train, y_test = train_test_split(X_derived, y, test_size=0.3, shuffle=False)"
   ]
  },
  {
   "cell_type": "code",
   "execution_count": 106,
   "id": "c7aebb46",
   "metadata": {},
   "outputs": [
    {
     "name": "stdout",
     "output_type": "stream",
     "text": [
      "Mean Squared Error (Random Forest): 901801.9403322797\n",
      "Root Mean Squared Error (RMSE) (Random Forest): 901801.9403322797\n",
      "Mean Absolute Error (MAE) (Random Forest): 676.2810745502348\n",
      "R² (Random Forest): 0.8746338266511114\n"
     ]
    }
   ],
   "source": [
    "# Inicializar e treinar o modelo de regressão linear\n",
    "linear_model = LinearRegression()\n",
    "linear_model.fit(X_train, y_train)\n",
    "\n",
    "# Prever no conjunto de teste\n",
    "y_pred = linear_model.predict(X_test)\n",
    "\n",
    "# Avaliar o modelo\n",
    "mse = mean_squared_error(y_test, y_pred)\n",
    "rmse = np.sqrt(mse)\n",
    "mae = mean_absolute_error(y_test, y_pred)\n",
    "r2 = r2_score(y_test, y_pred)\n",
    "\n",
    "print(f'Mean Squared Error (Random Forest): {mse}')\n",
    "print(f'Root Mean Squared Error (RMSE) (Random Forest): {mse}')\n",
    "print(f'Mean Absolute Error (MAE) (Random Forest): {mae}')\n",
    "print(f'R² (Random Forest): {r2}')"
   ]
  },
  {
   "cell_type": "code",
   "execution_count": 107,
   "id": "6432cbc3",
   "metadata": {},
   "outputs": [
    {
     "name": "stdout",
     "output_type": "stream",
     "text": [
      "------ XGBoost Results ------\n",
      "Mean Squared Error (XGBoost): 2210466.6534747477\n",
      "Root Mean Squared Error (RMSE) (XGBoost): 1486.7638189957233\n",
      "Mean Absolute Error (MAE) (XGBoost): 1214.139675423186\n",
      "R² (XGBoost): 0.6927066429250026\n",
      "\n",
      "------ Gradient Boosting Results ------\n",
      "Mean Squared Error (Gradient Boosting): 13187191.713387758\n",
      "Root Mean Squared Error (RMSE) (Gradient Boosting): 3631.417314684138\n",
      "Mean Absolute Error (MAE) (Gradient Boosting): 3084.726078430106\n",
      "R² (Gradient Boosting): -0.8332492849998132\n"
     ]
    }
   ],
   "source": [
    "from xgboost import XGBRegressor\n",
    "from sklearn.ensemble import GradientBoostingRegressor\n",
    "\n",
    "# ------------------ Treinamento com XGBoost ------------------\n",
    "xgb_model = XGBRegressor(n_estimators=100, learning_rate=0.4, random_state=42)\n",
    "xgb_model.fit(X_train, y_train)\n",
    "\n",
    "# Previsão com XGBoost\n",
    "xgb_y_pred = xgb_model.predict(X_test)\n",
    "\n",
    "# Avaliação do XGBoost\n",
    "xgb_mse = mean_squared_error(y_test, xgb_y_pred)\n",
    "xgb_rmse = np.sqrt(xgb_mse)\n",
    "xgb_mae = mean_absolute_error(y_test, xgb_y_pred)\n",
    "xgb_r2 = r2_score(y_test, xgb_y_pred)\n",
    "\n",
    "print(\"------ XGBoost Results ------\")\n",
    "print(f'Mean Squared Error (XGBoost): {xgb_mse}')\n",
    "print(f'Root Mean Squared Error (RMSE) (XGBoost): {xgb_rmse}')\n",
    "print(f'Mean Absolute Error (MAE) (XGBoost): {xgb_mae}')\n",
    "print(f'R² (XGBoost): {xgb_r2}')\n",
    "\n",
    "\n",
    "# ------------------ Treinamento com Gradient Boosting ------------------\n",
    "gb_model = GradientBoostingRegressor(n_estimators=10, learning_rate=0.01, random_state=42)\n",
    "gb_model.fit(X_train, y_train)\n",
    "\n",
    "# Previsão com Gradient Boosting\n",
    "gb_y_pred = gb_model.predict(X_test)\n",
    "\n",
    "# Avaliação do Gradient Boosting\n",
    "gb_mse = mean_squared_error(y_test, gb_y_pred)\n",
    "gb_rmse = np.sqrt(gb_mse)\n",
    "gb_mae = mean_absolute_error(y_test, gb_y_pred)\n",
    "gb_r2 = r2_score(y_test, gb_y_pred)\n",
    "\n",
    "print(\"\\n------ Gradient Boosting Results ------\")\n",
    "print(f'Mean Squared Error (Gradient Boosting): {gb_mse}')\n",
    "print(f'Root Mean Squared Error (RMSE) (Gradient Boosting): {gb_rmse}')\n",
    "print(f'Mean Absolute Error (MAE) (Gradient Boosting): {gb_mae}')\n",
    "print(f'R² (Gradient Boosting): {gb_r2}')"
   ]
  },
  {
   "cell_type": "code",
   "execution_count": 108,
   "id": "f17de3f3",
   "metadata": {},
   "outputs": [
    {
     "name": "stdout",
     "output_type": "stream",
     "text": [
      "Modelo salvo localmente em: ../models/rl_model.joblib\n"
     ]
    }
   ],
   "source": [
    "import joblib\n",
    "\n",
    "# Caminho local para salvar o modelo\n",
    "local_model_path = '../models/rl_model.joblib'\n",
    "\n",
    "\n",
    "# Salvar o modelo\n",
    "joblib.dump(linear_model, local_model_path)\n",
    "\n",
    "print(f\"Modelo salvo localmente em: {local_model_path}\")\n"
   ]
  },
  {
   "cell_type": "code",
   "execution_count": 109,
   "id": "f749d413",
   "metadata": {},
   "outputs": [],
   "source": [
    "reg_model = joblib.load('../models/rl_model.joblib')\n"
   ]
  },
  {
   "cell_type": "code",
   "execution_count": 110,
   "id": "4a41c8a9",
   "metadata": {},
   "outputs": [
    {
     "data": {
      "text/plain": [
       "Index(['day_of_week', 'day_of_month', 'moving_avg_7', 'moving_avg_30',\n",
       "       'moving_avg_90'],\n",
       "      dtype='object')"
      ]
     },
     "execution_count": 110,
     "metadata": {},
     "output_type": "execute_result"
    }
   ],
   "source": [
    "X_train.columns"
   ]
  },
  {
   "cell_type": "code",
   "execution_count": 111,
   "id": "df003c28",
   "metadata": {},
   "outputs": [
    {
     "name": "stderr",
     "output_type": "stream",
     "text": [
      "/home/erickfog/ada_tech/Cursos/Produtizacao_de_Modelos_e_MLOPs/.venv/lib/python3.10/site-packages/sklearn/utils/validation.py:2739: UserWarning: X does not have valid feature names, but LinearRegression was fitted with feature names\n",
      "  warnings.warn(\n"
     ]
    }
   ],
   "source": [
    "novos_dados = [[5,6,94472.382736,94472.382736,94378.144222]]\n",
    "predicao = reg_model.predict(novos_dados)"
   ]
  },
  {
   "cell_type": "code",
   "execution_count": 112,
   "id": "c8f24beb",
   "metadata": {},
   "outputs": [
    {
     "name": "stdout",
     "output_type": "stream",
     "text": [
      "O valor predito é: 94910.63\n"
     ]
    }
   ],
   "source": [
    "\n",
    "print(f'O valor predito é: {predicao[0]:.2f}')"
   ]
  },
  {
   "cell_type": "code",
   "execution_count": null,
   "id": "f3d27704",
   "metadata": {},
   "outputs": [],
   "source": []
  }
 ],
 "metadata": {
  "kernelspec": {
   "display_name": ".venv",
   "language": "python",
   "name": "python3"
  },
  "language_info": {
   "codemirror_mode": {
    "name": "ipython",
    "version": 3
   },
   "file_extension": ".py",
   "mimetype": "text/x-python",
   "name": "python",
   "nbconvert_exporter": "python",
   "pygments_lexer": "ipython3",
   "version": "3.10.12"
  }
 },
 "nbformat": 4,
 "nbformat_minor": 5
}
