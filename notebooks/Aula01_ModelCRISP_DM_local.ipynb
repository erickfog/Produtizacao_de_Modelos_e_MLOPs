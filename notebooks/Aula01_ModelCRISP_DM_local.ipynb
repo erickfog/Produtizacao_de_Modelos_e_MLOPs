{
 "cells": [
  {
   "cell_type": "markdown",
   "id": "afbfb0d6",
   "metadata": {},
   "source": [
    "# PASSO 00 IMPORTS"
   ]
  },
  {
   "cell_type": "code",
   "execution_count": 5,
   "id": "ad0eb614",
   "metadata": {},
   "outputs": [],
   "source": [
    "import pandas as pd\n",
    "import matplotlib.pyplot as plt\n",
    "from sklearn.metrics import mean_absolute_error\n",
    "from sklearn.linear_model import LinearRegression\n",
    "from sklearn.metrics import mean_squared_error, mean_absolute_error, r2_score\n",
    "\n",
    "\n",
    "import requests"
   ]
  },
  {
   "cell_type": "markdown",
   "id": "f4ab616a",
   "metadata": {},
   "source": [
    "# PASSO 01 DATA DESCRIPTION"
   ]
  },
  {
   "cell_type": "code",
   "execution_count": 6,
   "id": "0206b6ad",
   "metadata": {},
   "outputs": [],
   "source": [
    "def get_historical_data(coin, days=90):\n",
    "    url = f'https://api.coingecko.com/api/v3/coins/{coin}/market_chart?vs_currency=usd&days={days}'\n",
    "    try:\n",
    "        response = requests.get(url)\n",
    "        response.raise_for_status()\n",
    "        data = response.json()\n",
    "        prices = data['prices']\n",
    "        df = pd.DataFrame(prices, columns=[\"Timestamp\", \"Price (USD)\"])\n",
    "        df['Timestamp'] = pd.to_datetime(df['Timestamp'], unit='ms')\n",
    "        return df\n",
    "    except Exception as e:\n",
    "        st.error(f\"Erro ao buscar dados históricos: {e}\")\n",
    "        return pd.DataFrame()"
   ]
  },
  {
   "cell_type": "code",
   "execution_count": 7,
   "id": "85572c01",
   "metadata": {},
   "outputs": [],
   "source": [
    "historical_data = get_historical_data('bitcoin',days=30)\n",
    "historical_data.to_parquet('../data/raw/historical_data.parquet')"
   ]
  },
  {
   "cell_type": "code",
   "execution_count": 8,
   "id": "f3543296",
   "metadata": {},
   "outputs": [],
   "source": [
    "import pandas as pd\n",
    "from sklearn.model_selection import train_test_split\n",
    "from sklearn.preprocessing import StandardScaler\n",
    "\n",
    "# Carregar os dados (supondo que já tenha sido coletado)\n",
    "df_principal = pd.read_parquet('../data/raw/historical_data.parquet')"
   ]
  },
  {
   "cell_type": "markdown",
   "id": "033aa1ea",
   "metadata": {},
   "source": [
    "# FEATURE ENGINEERING"
   ]
  },
  {
   "cell_type": "code",
   "execution_count": 10,
   "id": "23890e74",
   "metadata": {},
   "outputs": [
    {
     "data": {
      "text/html": [
       "<div>\n",
       "<style scoped>\n",
       "    .dataframe tbody tr th:only-of-type {\n",
       "        vertical-align: middle;\n",
       "    }\n",
       "\n",
       "    .dataframe tbody tr th {\n",
       "        vertical-align: top;\n",
       "    }\n",
       "\n",
       "    .dataframe thead th {\n",
       "        text-align: right;\n",
       "    }\n",
       "</style>\n",
       "<table border=\"1\" class=\"dataframe\">\n",
       "  <thead>\n",
       "    <tr style=\"text-align: right;\">\n",
       "      <th></th>\n",
       "      <th>Timestamp</th>\n",
       "      <th>Price (USD)</th>\n",
       "    </tr>\n",
       "  </thead>\n",
       "  <tbody>\n",
       "    <tr>\n",
       "      <th>714</th>\n",
       "      <td>2025-02-06 19:02:56.212</td>\n",
       "      <td>96340.129989</td>\n",
       "    </tr>\n",
       "    <tr>\n",
       "      <th>715</th>\n",
       "      <td>2025-02-06 20:04:01.843</td>\n",
       "      <td>95967.150040</td>\n",
       "    </tr>\n",
       "    <tr>\n",
       "      <th>716</th>\n",
       "      <td>2025-02-06 21:03:56.060</td>\n",
       "      <td>96900.668886</td>\n",
       "    </tr>\n",
       "    <tr>\n",
       "      <th>717</th>\n",
       "      <td>2025-02-06 22:01:12.092</td>\n",
       "      <td>96784.585045</td>\n",
       "    </tr>\n",
       "    <tr>\n",
       "      <th>718</th>\n",
       "      <td>2025-02-06 23:13:01.000</td>\n",
       "      <td>96773.964378</td>\n",
       "    </tr>\n",
       "  </tbody>\n",
       "</table>\n",
       "</div>"
      ],
      "text/plain": [
       "                  Timestamp   Price (USD)\n",
       "714 2025-02-06 19:02:56.212  96340.129989\n",
       "715 2025-02-06 20:04:01.843  95967.150040\n",
       "716 2025-02-06 21:03:56.060  96900.668886\n",
       "717 2025-02-06 22:01:12.092  96784.585045\n",
       "718 2025-02-06 23:13:01.000  96773.964378"
      ]
     },
     "execution_count": 10,
     "metadata": {},
     "output_type": "execute_result"
    }
   ],
   "source": [
    "df = df_principal.copy()\n",
    "df.tail()"
   ]
  },
  {
   "cell_type": "code",
   "execution_count": 11,
   "id": "e9eb8b79",
   "metadata": {},
   "outputs": [
    {
     "data": {
      "text/html": [
       "<div>\n",
       "<style scoped>\n",
       "    .dataframe tbody tr th:only-of-type {\n",
       "        vertical-align: middle;\n",
       "    }\n",
       "\n",
       "    .dataframe tbody tr th {\n",
       "        vertical-align: top;\n",
       "    }\n",
       "\n",
       "    .dataframe thead th {\n",
       "        text-align: right;\n",
       "    }\n",
       "</style>\n",
       "<table border=\"1\" class=\"dataframe\">\n",
       "  <thead>\n",
       "    <tr style=\"text-align: right;\">\n",
       "      <th></th>\n",
       "      <th>timestamp</th>\n",
       "      <th>price (usd)</th>\n",
       "    </tr>\n",
       "  </thead>\n",
       "  <tbody>\n",
       "    <tr>\n",
       "      <th>0</th>\n",
       "      <td>2025-01-07 23:01:54.139</td>\n",
       "      <td>96966.665012</td>\n",
       "    </tr>\n",
       "    <tr>\n",
       "      <th>1</th>\n",
       "      <td>2025-01-08 00:03:56.480</td>\n",
       "      <td>96952.098868</td>\n",
       "    </tr>\n",
       "    <tr>\n",
       "      <th>2</th>\n",
       "      <td>2025-01-08 01:00:01.762</td>\n",
       "      <td>97121.198531</td>\n",
       "    </tr>\n",
       "    <tr>\n",
       "      <th>3</th>\n",
       "      <td>2025-01-08 02:00:06.054</td>\n",
       "      <td>96652.024304</td>\n",
       "    </tr>\n",
       "    <tr>\n",
       "      <th>4</th>\n",
       "      <td>2025-01-08 03:03:41.727</td>\n",
       "      <td>96866.906198</td>\n",
       "    </tr>\n",
       "    <tr>\n",
       "      <th>...</th>\n",
       "      <td>...</td>\n",
       "      <td>...</td>\n",
       "    </tr>\n",
       "    <tr>\n",
       "      <th>714</th>\n",
       "      <td>2025-02-06 19:02:56.212</td>\n",
       "      <td>96340.129989</td>\n",
       "    </tr>\n",
       "    <tr>\n",
       "      <th>715</th>\n",
       "      <td>2025-02-06 20:04:01.843</td>\n",
       "      <td>95967.150040</td>\n",
       "    </tr>\n",
       "    <tr>\n",
       "      <th>716</th>\n",
       "      <td>2025-02-06 21:03:56.060</td>\n",
       "      <td>96900.668886</td>\n",
       "    </tr>\n",
       "    <tr>\n",
       "      <th>717</th>\n",
       "      <td>2025-02-06 22:01:12.092</td>\n",
       "      <td>96784.585045</td>\n",
       "    </tr>\n",
       "    <tr>\n",
       "      <th>718</th>\n",
       "      <td>2025-02-06 23:13:01.000</td>\n",
       "      <td>96773.964378</td>\n",
       "    </tr>\n",
       "  </tbody>\n",
       "</table>\n",
       "<p>719 rows × 2 columns</p>\n",
       "</div>"
      ],
      "text/plain": [
       "                  timestamp   price (usd)\n",
       "0   2025-01-07 23:01:54.139  96966.665012\n",
       "1   2025-01-08 00:03:56.480  96952.098868\n",
       "2   2025-01-08 01:00:01.762  97121.198531\n",
       "3   2025-01-08 02:00:06.054  96652.024304\n",
       "4   2025-01-08 03:03:41.727  96866.906198\n",
       "..                      ...           ...\n",
       "714 2025-02-06 19:02:56.212  96340.129989\n",
       "715 2025-02-06 20:04:01.843  95967.150040\n",
       "716 2025-02-06 21:03:56.060  96900.668886\n",
       "717 2025-02-06 22:01:12.092  96784.585045\n",
       "718 2025-02-06 23:13:01.000  96773.964378\n",
       "\n",
       "[719 rows x 2 columns]"
      ]
     },
     "execution_count": 11,
     "metadata": {},
     "output_type": "execute_result"
    }
   ],
   "source": [
    "df = df.rename(columns={\"Timestamp\":\"timestamp\",\"Price (USD)\":\"price (usd)\"})\n",
    "df"
   ]
  },
  {
   "cell_type": "code",
   "execution_count": 12,
   "id": "b66fffe4",
   "metadata": {},
   "outputs": [],
   "source": [
    "df['day_of_week'] = df['timestamp'].dt.dayofweek\n",
    "\n",
    "\n",
    "# Extrair o número do dia no mês\n",
    "df['day_of_month'] = df['timestamp'].dt.day"
   ]
  },
  {
   "cell_type": "code",
   "execution_count": 13,
   "id": "c6995d9f",
   "metadata": {},
   "outputs": [],
   "source": [
    "# Média móvel de 7 dias (curto prazo)\n",
    "df['moving_avg_7'] = df['price (usd)'].rolling(window=7).mean()\n",
    "\n",
    "# Média móvel de 30 dias (médio prazo)\n",
    "df['moving_avg_30'] = df['price (usd)'].rolling(window=30).mean()\n",
    "\n",
    "# Média móvel de 90 dias (longo prazo)\n",
    "df['moving_avg_90'] = df['price (usd)'].rolling(window=90).mean()"
   ]
  },
  {
   "cell_type": "code",
   "execution_count": 14,
   "id": "76f3bd08",
   "metadata": {},
   "outputs": [],
   "source": [
    "# Calcular a variação percentual diária (retorno)\n",
    "df['daily_return'] = df['price (usd)'].pct_change()\n",
    "\n",
    "# Calcular a variação absoluta diária\n",
    "df['daily_return_abs'] = df['price (usd)'].diff()"
   ]
  },
  {
   "cell_type": "code",
   "execution_count": 15,
   "id": "5e6ee270",
   "metadata": {},
   "outputs": [],
   "source": [
    "df['volatility'] = df['daily_return'].rolling(window=30).std()"
   ]
  },
  {
   "cell_type": "code",
   "execution_count": 16,
   "id": "bf5abd9f",
   "metadata": {},
   "outputs": [],
   "source": [
    "# Função para calcular o RSI\n",
    "def calculate_rsi(data, window):\n",
    "    delta = data.diff()\n",
    "    gain = (delta.where(delta > 0, 0)).rolling(window=window).mean()\n",
    "    loss = (-delta.where(delta < 0, 0)).rolling(window=window).mean()\n",
    "    rs = gain / loss\n",
    "    return 100 - (100 / (1 + rs))\n",
    "\n",
    "# Calcular o RSI de 14 dias\n",
    "df['RSI_14'] = calculate_rsi(df['price (usd)'], window=14)"
   ]
  },
  {
   "cell_type": "code",
   "execution_count": 17,
   "id": "85bbbf54",
   "metadata": {},
   "outputs": [],
   "source": [
    "# Média exponencial de 7 dias\n",
    "df['ema_7'] = df['price (usd)'].ewm(span=7, adjust=False).mean()\n",
    "\n",
    "# Média exponencial de 30 dias\n",
    "df['ema_30'] = df['price (usd)'].ewm(span=30, adjust=False).mean()"
   ]
  },
  {
   "cell_type": "markdown",
   "id": "0f767b68",
   "metadata": {},
   "source": [
    "# Variable Filtering"
   ]
  },
  {
   "cell_type": "code",
   "execution_count": 18,
   "id": "6fc8e750",
   "metadata": {},
   "outputs": [],
   "source": [
    "df = df.dropna()"
   ]
  },
  {
   "cell_type": "code",
   "execution_count": 19,
   "id": "2b51385c",
   "metadata": {},
   "outputs": [
    {
     "name": "stdout",
     "output_type": "stream",
     "text": [
      "    day_of_week  day_of_month  moving_avg_7  moving_avg_30  moving_avg_90\n",
      "89            5            11  94472.382736   94491.308360   94438.327812\n",
      "90            5            11  94484.952677   94470.379685   94409.941707\n",
      "91            5            11  94429.234757   94439.137268   94378.144222\n",
      "92            5            11  94379.145377   94412.591325   94346.097421\n",
      "93            5            11  94328.880567   94434.542758   94318.880688\n"
     ]
    }
   ],
   "source": [
    "# Lista das variáveis derivadas\n",
    "derived_columns = [\n",
    "    'day_of_week',  'day_of_month', \n",
    "    'moving_avg_7', 'moving_avg_30', 'moving_avg_90'\n",
    "]\n",
    "\n",
    "# Filtrando apenas as variáveis derivadas\n",
    "df_derived = df[derived_columns]\n",
    "\n",
    "# Exibindo as primeiras linhas das variáveis derivadas\n",
    "print(df_derived.head())"
   ]
  },
  {
   "cell_type": "code",
   "execution_count": 20,
   "id": "12a4c3ca",
   "metadata": {},
   "outputs": [],
   "source": [
    "scaler = StandardScaler()\n",
    "# Separar variáveis independentes (apenas as derivadas)\n",
    "X_derived = df_derived\n",
    "\n",
    "# Variável dependente (preço)\n",
    "y = df['price (usd)']\n",
    "\n",
    "# Dividir em treino e teste\n",
    "X_train, X_test, y_train, y_test = train_test_split(X_derived, y, test_size=0.3, shuffle=False)\n",
    "\n",
    "# Normalizar as variáveis independentes\n",
    "X_train_scaled = scaler.fit_transform(X_train)\n",
    "X_test_scaled = scaler.transform(X_test)"
   ]
  },
  {
   "cell_type": "code",
   "execution_count": 21,
   "id": "c7aebb46",
   "metadata": {},
   "outputs": [
    {
     "name": "stdout",
     "output_type": "stream",
     "text": [
      "Mean Squared Error (Random Forest): 773880.0374516668\n",
      "Root Mean Squared Error (RMSE) (Random Forest): 773880.0374516668\n",
      "Mean Absolute Error (MAE) (Random Forest): 603.3504716929986\n",
      "R² (Random Forest): 0.9243899727857942\n"
     ]
    }
   ],
   "source": [
    "# Inicializar e treinar o modelo de regressão linear\n",
    "linear_model = LinearRegression()\n",
    "linear_model.fit(X_train, y_train)\n",
    "\n",
    "# Prever no conjunto de teste\n",
    "y_pred = linear_model.predict(X_test)\n",
    "\n",
    "# Avaliar o modelo\n",
    "mse = mean_squared_error(y_test, y_pred)\n",
    "rmse = np.sqrt(mse)\n",
    "mae = mean_absolute_error(y_test, y_pred)\n",
    "r2 = r2_score(y_test, y_pred)\n",
    "\n",
    "print(f'Mean Squared Error (Random Forest): {mse}')\n",
    "print(f'Root Mean Squared Error (RMSE) (Random Forest): {mse}')\n",
    "print(f'Mean Absolute Error (MAE) (Random Forest): {mae}')\n",
    "print(f'R² (Random Forest): {r2}')"
   ]
  },
  {
   "cell_type": "code",
   "execution_count": 22,
   "id": "6432cbc3",
   "metadata": {},
   "outputs": [
    {
     "name": "stdout",
     "output_type": "stream",
     "text": [
      "------ XGBoost Results ------\n",
      "Mean Squared Error (XGBoost): 1634665.327436328\n",
      "Root Mean Squared Error (RMSE) (XGBoost): 1278.5403112285228\n",
      "Mean Absolute Error (MAE) (XGBoost): 1024.7607356479846\n",
      "R² (XGBoost): 0.8402890836923821\n",
      "\n",
      "------ Gradient Boosting Results ------\n",
      "Mean Squared Error (Gradient Boosting): 10246346.15466787\n",
      "Root Mean Squared Error (RMSE) (Gradient Boosting): 3200.9914330825486\n",
      "Mean Absolute Error (MAE) (Gradient Boosting): 2742.1362745790752\n",
      "R² (Gradient Boosting): -0.0010938053806519576\n"
     ]
    }
   ],
   "source": [
    "from xgboost import XGBRegressor\n",
    "from sklearn.ensemble import GradientBoostingRegressor\n",
    "\n",
    "# ------------------ Treinamento com XGBoost ------------------\n",
    "xgb_model = XGBRegressor(n_estimators=100, learning_rate=0.4, random_state=42)\n",
    "xgb_model.fit(X_train, y_train)\n",
    "\n",
    "# Previsão com XGBoost\n",
    "xgb_y_pred = xgb_model.predict(X_test)\n",
    "\n",
    "# Avaliação do XGBoost\n",
    "xgb_mse = mean_squared_error(y_test, xgb_y_pred)\n",
    "xgb_rmse = np.sqrt(xgb_mse)\n",
    "xgb_mae = mean_absolute_error(y_test, xgb_y_pred)\n",
    "xgb_r2 = r2_score(y_test, xgb_y_pred)\n",
    "\n",
    "print(\"------ XGBoost Results ------\")\n",
    "print(f'Mean Squared Error (XGBoost): {xgb_mse}')\n",
    "print(f'Root Mean Squared Error (RMSE) (XGBoost): {xgb_rmse}')\n",
    "print(f'Mean Absolute Error (MAE) (XGBoost): {xgb_mae}')\n",
    "print(f'R² (XGBoost): {xgb_r2}')\n",
    "\n",
    "\n",
    "# ------------------ Treinamento com Gradient Boosting ------------------\n",
    "gb_model = GradientBoostingRegressor(n_estimators=10, learning_rate=0.01, random_state=42)\n",
    "gb_model.fit(X_train, y_train)\n",
    "\n",
    "# Previsão com Gradient Boosting\n",
    "gb_y_pred = gb_model.predict(X_test)\n",
    "\n",
    "# Avaliação do Gradient Boosting\n",
    "gb_mse = mean_squared_error(y_test, gb_y_pred)\n",
    "gb_rmse = np.sqrt(gb_mse)\n",
    "gb_mae = mean_absolute_error(y_test, gb_y_pred)\n",
    "gb_r2 = r2_score(y_test, gb_y_pred)\n",
    "\n",
    "print(\"\\n------ Gradient Boosting Results ------\")\n",
    "print(f'Mean Squared Error (Gradient Boosting): {gb_mse}')\n",
    "print(f'Root Mean Squared Error (RMSE) (Gradient Boosting): {gb_rmse}')\n",
    "print(f'Mean Absolute Error (MAE) (Gradient Boosting): {gb_mae}')\n",
    "print(f'R² (Gradient Boosting): {gb_r2}')"
   ]
  },
  {
   "cell_type": "code",
   "execution_count": 23,
   "id": "f17de3f3",
   "metadata": {},
   "outputs": [
    {
     "name": "stdout",
     "output_type": "stream",
     "text": [
      "Modelo salvo localmente em: ../models/rl_model.joblib\n"
     ]
    }
   ],
   "source": [
    "import joblib\n",
    "\n",
    "# Caminho local para salvar o modelo\n",
    "local_model_path = '../models/rl_model.joblib'\n",
    "\n",
    "\n",
    "# Salvar o modelo\n",
    "joblib.dump(linear_model, local_model_path)\n",
    "\n",
    "print(f\"Modelo salvo localmente em: {local_model_path}\")\n"
   ]
  },
  {
   "cell_type": "code",
   "execution_count": 25,
   "id": "f749d413",
   "metadata": {},
   "outputs": [],
   "source": [
    "reg_model = joblib.load('../models/rl_model.joblib')\n"
   ]
  },
  {
   "cell_type": "code",
   "execution_count": 26,
   "id": "4a41c8a9",
   "metadata": {},
   "outputs": [
    {
     "data": {
      "text/plain": [
       "Index(['day_of_week', 'day_of_month', 'moving_avg_7', 'moving_avg_30',\n",
       "       'moving_avg_90'],\n",
       "      dtype='object')"
      ]
     },
     "execution_count": 26,
     "metadata": {},
     "output_type": "execute_result"
    }
   ],
   "source": [
    "X_train.columns"
   ]
  },
  {
   "cell_type": "code",
   "execution_count": 28,
   "id": "e308062f",
   "metadata": {},
   "outputs": [
    {
     "data": {
      "text/html": [
       "<div>\n",
       "<style scoped>\n",
       "    .dataframe tbody tr th:only-of-type {\n",
       "        vertical-align: middle;\n",
       "    }\n",
       "\n",
       "    .dataframe tbody tr th {\n",
       "        vertical-align: top;\n",
       "    }\n",
       "\n",
       "    .dataframe thead th {\n",
       "        text-align: right;\n",
       "    }\n",
       "</style>\n",
       "<table border=\"1\" class=\"dataframe\">\n",
       "  <thead>\n",
       "    <tr style=\"text-align: right;\">\n",
       "      <th></th>\n",
       "      <th>day_of_week</th>\n",
       "      <th>day_of_month</th>\n",
       "      <th>moving_avg_7</th>\n",
       "      <th>moving_avg_30</th>\n",
       "      <th>moving_avg_90</th>\n",
       "    </tr>\n",
       "  </thead>\n",
       "  <tbody>\n",
       "    <tr>\n",
       "      <th>89</th>\n",
       "      <td>5</td>\n",
       "      <td>11</td>\n",
       "      <td>94472.382736</td>\n",
       "      <td>94491.308360</td>\n",
       "      <td>94438.327812</td>\n",
       "    </tr>\n",
       "    <tr>\n",
       "      <th>90</th>\n",
       "      <td>5</td>\n",
       "      <td>11</td>\n",
       "      <td>94484.952677</td>\n",
       "      <td>94470.379685</td>\n",
       "      <td>94409.941707</td>\n",
       "    </tr>\n",
       "    <tr>\n",
       "      <th>91</th>\n",
       "      <td>5</td>\n",
       "      <td>11</td>\n",
       "      <td>94429.234757</td>\n",
       "      <td>94439.137268</td>\n",
       "      <td>94378.144222</td>\n",
       "    </tr>\n",
       "    <tr>\n",
       "      <th>92</th>\n",
       "      <td>5</td>\n",
       "      <td>11</td>\n",
       "      <td>94379.145377</td>\n",
       "      <td>94412.591325</td>\n",
       "      <td>94346.097421</td>\n",
       "    </tr>\n",
       "    <tr>\n",
       "      <th>93</th>\n",
       "      <td>5</td>\n",
       "      <td>11</td>\n",
       "      <td>94328.880567</td>\n",
       "      <td>94434.542758</td>\n",
       "      <td>94318.880688</td>\n",
       "    </tr>\n",
       "    <tr>\n",
       "      <th>...</th>\n",
       "      <td>...</td>\n",
       "      <td>...</td>\n",
       "      <td>...</td>\n",
       "      <td>...</td>\n",
       "      <td>...</td>\n",
       "    </tr>\n",
       "    <tr>\n",
       "      <th>525</th>\n",
       "      <td>2</td>\n",
       "      <td>29</td>\n",
       "      <td>103032.792313</td>\n",
       "      <td>102261.758741</td>\n",
       "      <td>102373.828520</td>\n",
       "    </tr>\n",
       "    <tr>\n",
       "      <th>526</th>\n",
       "      <td>2</td>\n",
       "      <td>29</td>\n",
       "      <td>103238.760314</td>\n",
       "      <td>102301.972637</td>\n",
       "      <td>102355.837520</td>\n",
       "    </tr>\n",
       "    <tr>\n",
       "      <th>527</th>\n",
       "      <td>3</td>\n",
       "      <td>30</td>\n",
       "      <td>103474.717136</td>\n",
       "      <td>102337.176678</td>\n",
       "      <td>102340.743941</td>\n",
       "    </tr>\n",
       "    <tr>\n",
       "      <th>528</th>\n",
       "      <td>3</td>\n",
       "      <td>30</td>\n",
       "      <td>103698.038563</td>\n",
       "      <td>102401.368761</td>\n",
       "      <td>102331.063322</td>\n",
       "    </tr>\n",
       "    <tr>\n",
       "      <th>529</th>\n",
       "      <td>3</td>\n",
       "      <td>30</td>\n",
       "      <td>103862.599007</td>\n",
       "      <td>102456.924942</td>\n",
       "      <td>102320.892262</td>\n",
       "    </tr>\n",
       "  </tbody>\n",
       "</table>\n",
       "<p>441 rows × 5 columns</p>\n",
       "</div>"
      ],
      "text/plain": [
       "     day_of_week  day_of_month   moving_avg_7  moving_avg_30  moving_avg_90\n",
       "89             5            11   94472.382736   94491.308360   94438.327812\n",
       "90             5            11   94484.952677   94470.379685   94409.941707\n",
       "91             5            11   94429.234757   94439.137268   94378.144222\n",
       "92             5            11   94379.145377   94412.591325   94346.097421\n",
       "93             5            11   94328.880567   94434.542758   94318.880688\n",
       "..           ...           ...            ...            ...            ...\n",
       "525            2            29  103032.792313  102261.758741  102373.828520\n",
       "526            2            29  103238.760314  102301.972637  102355.837520\n",
       "527            3            30  103474.717136  102337.176678  102340.743941\n",
       "528            3            30  103698.038563  102401.368761  102331.063322\n",
       "529            3            30  103862.599007  102456.924942  102320.892262\n",
       "\n",
       "[441 rows x 5 columns]"
      ]
     },
     "execution_count": 28,
     "metadata": {},
     "output_type": "execute_result"
    }
   ],
   "source": [
    "X_train"
   ]
  },
  {
   "cell_type": "code",
   "execution_count": 37,
   "id": "df003c28",
   "metadata": {},
   "outputs": [
    {
     "name": "stderr",
     "output_type": "stream",
     "text": [
      "/home/erickfog/ada_tech/Cursos/Produtizacao_de_Modelos_e_MLOPs/.venv/lib/python3.10/site-packages/sklearn/utils/validation.py:2739: UserWarning: X does not have valid feature names, but LinearRegression was fitted with feature names\n",
      "  warnings.warn(\n"
     ]
    }
   ],
   "source": [
    "novos_dados = [[5,6,94472.382736,94472.382736,94378.144222]]\n",
    "predicao = reg_model.predict(novos_dados)"
   ]
  },
  {
   "cell_type": "code",
   "execution_count": 42,
   "id": "c8f24beb",
   "metadata": {},
   "outputs": [
    {
     "name": "stdout",
     "output_type": "stream",
     "text": [
      "O valor predito é: 94680.86\n"
     ]
    }
   ],
   "source": [
    "\n",
    "print(f'O valor predito é: {predicao[0]:.2f}')"
   ]
  }
 ],
 "metadata": {
  "kernelspec": {
   "display_name": ".venv",
   "language": "python",
   "name": "python3"
  },
  "language_info": {
   "codemirror_mode": {
    "name": "ipython",
    "version": 3
   },
   "file_extension": ".py",
   "mimetype": "text/x-python",
   "name": "python",
   "nbconvert_exporter": "python",
   "pygments_lexer": "ipython3",
   "version": "3.10.12"
  }
 },
 "nbformat": 4,
 "nbformat_minor": 5
}
