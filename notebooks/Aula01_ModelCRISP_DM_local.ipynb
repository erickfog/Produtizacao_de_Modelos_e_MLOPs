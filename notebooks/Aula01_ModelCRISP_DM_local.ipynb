{
 "cells": [
  {
   "cell_type": "markdown",
   "id": "afbfb0d6",
   "metadata": {},
   "source": [
    "# PASSO 00 IMPORTS"
   ]
  },
  {
   "cell_type": "code",
   "execution_count": 28,
   "id": "ad0eb614",
   "metadata": {},
   "outputs": [],
   "source": [
    "import pandas as pd\n",
    "import numpy as np\n",
    "import matplotlib.pyplot as plt\n",
    "from datetime import datetime\n",
    "from statsmodels.tsa.arima.model import ARIMA\n",
    "from sklearn.metrics import mean_absolute_error\n",
    "import boto3\n",
    "from sklearn.preprocessing import StandardScaler\n",
    "from sklearn.linear_model import LinearRegression\n",
    "from sklearn.ensemble import RandomForestRegressor\n",
    "from sklearn.metrics import mean_squared_error, mean_absolute_error, r2_score\n",
    "\n",
    "\n",
    "import requests\n",
    "from datetime import datetime\n",
    "import boto3\n",
    "import json\n",
    "import time\n"
   ]
  },
  {
   "cell_type": "markdown",
   "id": "f4ab616a",
   "metadata": {},
   "source": [
    "# PASSO 01 DATA DESCRIPTION"
   ]
  },
  {
   "cell_type": "code",
   "execution_count": 29,
   "id": "0206b6ad",
   "metadata": {},
   "outputs": [],
   "source": [
    "def get_historical_data(coin, days=90):\n",
    "    url = f'https://api.coingecko.com/api/v3/coins/{coin}/market_chart?vs_currency=usd&days={days}'\n",
    "    try:\n",
    "        response = requests.get(url)\n",
    "        response.raise_for_status()\n",
    "        data = response.json()\n",
    "        prices = data['prices']\n",
    "        df = pd.DataFrame(prices, columns=[\"Timestamp\", \"Price (USD)\"])\n",
    "        df['Timestamp'] = pd.to_datetime(df['Timestamp'], unit='ms')\n",
    "        return df\n",
    "    except Exception as e:\n",
    "        st.error(f\"Erro ao buscar dados históricos: {e}\")\n",
    "        return pd.DataFrame()"
   ]
  },
  {
   "cell_type": "code",
   "execution_count": 30,
   "id": "85572c01",
   "metadata": {},
   "outputs": [],
   "source": [
    "historical_data = get_historical_data('bitcoin',days=30)\n",
    "historical_data.to_parquet('../data/raw/historical_data.parquet')"
   ]
  },
  {
   "cell_type": "code",
   "execution_count": 31,
   "id": "f3543296",
   "metadata": {},
   "outputs": [],
   "source": [
    "import pandas as pd\n",
    "from sklearn.model_selection import train_test_split\n",
    "from sklearn.preprocessing import StandardScaler\n",
    "\n",
    "# Carregar os dados (supondo que já tenha sido coletado)\n",
    "df_principal = pd.read_parquet('../data/raw/historical_data.parquet')"
   ]
  },
  {
   "cell_type": "markdown",
   "id": "033aa1ea",
   "metadata": {},
   "source": [
    "# FEATURE ENGINEERING"
   ]
  },
  {
   "cell_type": "code",
   "execution_count": 32,
   "id": "23890e74",
   "metadata": {},
   "outputs": [
    {
     "data": {
      "text/html": [
       "<div>\n",
       "<style scoped>\n",
       "    .dataframe tbody tr th:only-of-type {\n",
       "        vertical-align: middle;\n",
       "    }\n",
       "\n",
       "    .dataframe tbody tr th {\n",
       "        vertical-align: top;\n",
       "    }\n",
       "\n",
       "    .dataframe thead th {\n",
       "        text-align: right;\n",
       "    }\n",
       "</style>\n",
       "<table border=\"1\" class=\"dataframe\">\n",
       "  <thead>\n",
       "    <tr style=\"text-align: right;\">\n",
       "      <th></th>\n",
       "      <th>Timestamp</th>\n",
       "      <th>Price (USD)</th>\n",
       "    </tr>\n",
       "  </thead>\n",
       "  <tbody>\n",
       "    <tr>\n",
       "      <th>0</th>\n",
       "      <td>2024-12-18 13:03:52.431</td>\n",
       "      <td>104983.481292</td>\n",
       "    </tr>\n",
       "    <tr>\n",
       "      <th>1</th>\n",
       "      <td>2024-12-18 14:07:46.894</td>\n",
       "      <td>104661.925495</td>\n",
       "    </tr>\n",
       "    <tr>\n",
       "      <th>2</th>\n",
       "      <td>2024-12-18 15:03:54.033</td>\n",
       "      <td>103821.249179</td>\n",
       "    </tr>\n",
       "    <tr>\n",
       "      <th>3</th>\n",
       "      <td>2024-12-18 16:01:16.381</td>\n",
       "      <td>104432.307228</td>\n",
       "    </tr>\n",
       "    <tr>\n",
       "      <th>4</th>\n",
       "      <td>2024-12-18 17:00:45.402</td>\n",
       "      <td>104094.339001</td>\n",
       "    </tr>\n",
       "  </tbody>\n",
       "</table>\n",
       "</div>"
      ],
      "text/plain": [
       "                Timestamp    Price (USD)\n",
       "0 2024-12-18 13:03:52.431  104983.481292\n",
       "1 2024-12-18 14:07:46.894  104661.925495\n",
       "2 2024-12-18 15:03:54.033  103821.249179\n",
       "3 2024-12-18 16:01:16.381  104432.307228\n",
       "4 2024-12-18 17:00:45.402  104094.339001"
      ]
     },
     "execution_count": 32,
     "metadata": {},
     "output_type": "execute_result"
    }
   ],
   "source": [
    "df = df_principal.copy()\n",
    "df.head()"
   ]
  },
  {
   "cell_type": "code",
   "execution_count": 33,
   "id": "e9eb8b79",
   "metadata": {},
   "outputs": [
    {
     "data": {
      "text/html": [
       "<div>\n",
       "<style scoped>\n",
       "    .dataframe tbody tr th:only-of-type {\n",
       "        vertical-align: middle;\n",
       "    }\n",
       "\n",
       "    .dataframe tbody tr th {\n",
       "        vertical-align: top;\n",
       "    }\n",
       "\n",
       "    .dataframe thead th {\n",
       "        text-align: right;\n",
       "    }\n",
       "</style>\n",
       "<table border=\"1\" class=\"dataframe\">\n",
       "  <thead>\n",
       "    <tr style=\"text-align: right;\">\n",
       "      <th></th>\n",
       "      <th>timestamp</th>\n",
       "      <th>price (usd)</th>\n",
       "    </tr>\n",
       "  </thead>\n",
       "  <tbody>\n",
       "    <tr>\n",
       "      <th>0</th>\n",
       "      <td>2024-12-18 13:03:52.431</td>\n",
       "      <td>104983.481292</td>\n",
       "    </tr>\n",
       "    <tr>\n",
       "      <th>1</th>\n",
       "      <td>2024-12-18 14:07:46.894</td>\n",
       "      <td>104661.925495</td>\n",
       "    </tr>\n",
       "    <tr>\n",
       "      <th>2</th>\n",
       "      <td>2024-12-18 15:03:54.033</td>\n",
       "      <td>103821.249179</td>\n",
       "    </tr>\n",
       "    <tr>\n",
       "      <th>3</th>\n",
       "      <td>2024-12-18 16:01:16.381</td>\n",
       "      <td>104432.307228</td>\n",
       "    </tr>\n",
       "    <tr>\n",
       "      <th>4</th>\n",
       "      <td>2024-12-18 17:00:45.402</td>\n",
       "      <td>104094.339001</td>\n",
       "    </tr>\n",
       "    <tr>\n",
       "      <th>...</th>\n",
       "      <td>...</td>\n",
       "      <td>...</td>\n",
       "    </tr>\n",
       "    <tr>\n",
       "      <th>715</th>\n",
       "      <td>2025-01-17 09:08:35.792</td>\n",
       "      <td>102125.380533</td>\n",
       "    </tr>\n",
       "    <tr>\n",
       "      <th>716</th>\n",
       "      <td>2025-01-17 10:03:39.901</td>\n",
       "      <td>101924.678408</td>\n",
       "    </tr>\n",
       "    <tr>\n",
       "      <th>717</th>\n",
       "      <td>2025-01-17 11:03:33.572</td>\n",
       "      <td>102243.203797</td>\n",
       "    </tr>\n",
       "    <tr>\n",
       "      <th>718</th>\n",
       "      <td>2025-01-17 12:01:23.197</td>\n",
       "      <td>102254.354934</td>\n",
       "    </tr>\n",
       "    <tr>\n",
       "      <th>719</th>\n",
       "      <td>2025-01-17 12:26:25.000</td>\n",
       "      <td>102590.732730</td>\n",
       "    </tr>\n",
       "  </tbody>\n",
       "</table>\n",
       "<p>720 rows × 2 columns</p>\n",
       "</div>"
      ],
      "text/plain": [
       "                  timestamp    price (usd)\n",
       "0   2024-12-18 13:03:52.431  104983.481292\n",
       "1   2024-12-18 14:07:46.894  104661.925495\n",
       "2   2024-12-18 15:03:54.033  103821.249179\n",
       "3   2024-12-18 16:01:16.381  104432.307228\n",
       "4   2024-12-18 17:00:45.402  104094.339001\n",
       "..                      ...            ...\n",
       "715 2025-01-17 09:08:35.792  102125.380533\n",
       "716 2025-01-17 10:03:39.901  101924.678408\n",
       "717 2025-01-17 11:03:33.572  102243.203797\n",
       "718 2025-01-17 12:01:23.197  102254.354934\n",
       "719 2025-01-17 12:26:25.000  102590.732730\n",
       "\n",
       "[720 rows x 2 columns]"
      ]
     },
     "execution_count": 33,
     "metadata": {},
     "output_type": "execute_result"
    }
   ],
   "source": [
    "df = df.rename(columns={\"Timestamp\":\"timestamp\",\"Price (USD)\":\"price (usd)\"})\n",
    "df"
   ]
  },
  {
   "cell_type": "code",
   "execution_count": 34,
   "id": "b66fffe4",
   "metadata": {},
   "outputs": [],
   "source": [
    "df['day_of_week'] = df['timestamp'].dt.dayofweek\n",
    "\n",
    "\n",
    "# Extrair o número do dia no mês\n",
    "df['day_of_month'] = df['timestamp'].dt.day"
   ]
  },
  {
   "cell_type": "code",
   "execution_count": 35,
   "id": "c6995d9f",
   "metadata": {},
   "outputs": [],
   "source": [
    "# Média móvel de 7 dias (curto prazo)\n",
    "df['moving_avg_7'] = df['price (usd)'].rolling(window=7).mean()\n",
    "\n",
    "# Média móvel de 30 dias (médio prazo)\n",
    "df['moving_avg_30'] = df['price (usd)'].rolling(window=30).mean()\n",
    "\n",
    "# Média móvel de 90 dias (longo prazo)\n",
    "df['moving_avg_90'] = df['price (usd)'].rolling(window=90).mean()"
   ]
  },
  {
   "cell_type": "code",
   "execution_count": 36,
   "id": "76f3bd08",
   "metadata": {},
   "outputs": [],
   "source": [
    "# Calcular a variação percentual diária (retorno)\n",
    "df['daily_return'] = df['price (usd)'].pct_change()\n",
    "\n",
    "# Calcular a variação absoluta diária\n",
    "df['daily_return_abs'] = df['price (usd)'].diff()"
   ]
  },
  {
   "cell_type": "code",
   "execution_count": 37,
   "id": "5e6ee270",
   "metadata": {},
   "outputs": [],
   "source": [
    "df['volatility'] = df['daily_return'].rolling(window=30).std()"
   ]
  },
  {
   "cell_type": "code",
   "execution_count": 38,
   "id": "bf5abd9f",
   "metadata": {},
   "outputs": [],
   "source": [
    "# Função para calcular o RSI\n",
    "def calculate_rsi(data, window):\n",
    "    delta = data.diff()\n",
    "    gain = (delta.where(delta > 0, 0)).rolling(window=window).mean()\n",
    "    loss = (-delta.where(delta < 0, 0)).rolling(window=window).mean()\n",
    "    rs = gain / loss\n",
    "    return 100 - (100 / (1 + rs))\n",
    "\n",
    "# Calcular o RSI de 14 dias\n",
    "df['RSI_14'] = calculate_rsi(df['price (usd)'], window=14)"
   ]
  },
  {
   "cell_type": "code",
   "execution_count": 39,
   "id": "85bbbf54",
   "metadata": {},
   "outputs": [],
   "source": [
    "# Média exponencial de 7 dias\n",
    "df['ema_7'] = df['price (usd)'].ewm(span=7, adjust=False).mean()\n",
    "\n",
    "# Média exponencial de 30 dias\n",
    "df['ema_30'] = df['price (usd)'].ewm(span=30, adjust=False).mean()"
   ]
  },
  {
   "cell_type": "markdown",
   "id": "0f767b68",
   "metadata": {},
   "source": [
    "# Variable Filtering"
   ]
  },
  {
   "cell_type": "code",
   "execution_count": 40,
   "id": "6fc8e750",
   "metadata": {},
   "outputs": [],
   "source": [
    "df = df.dropna()"
   ]
  },
  {
   "cell_type": "code",
   "execution_count": 41,
   "id": "2b51385c",
   "metadata": {},
   "outputs": [
    {
     "name": "stdout",
     "output_type": "stream",
     "text": [
      "    day_of_week  day_of_month  moving_avg_7  moving_avg_30  moving_avg_90\n",
      "89            6            22  96760.174188   97473.094347   98655.367341\n",
      "90            6            22  96680.409143   97445.699704   98563.173131\n",
      "91            6            22  96534.748756   97405.204670   98468.629990\n",
      "92            6            22  96470.464219   97378.396312   98387.899618\n",
      "93            6            22  96508.849141   97361.053188   98304.120821\n"
     ]
    }
   ],
   "source": [
    "# Lista das variáveis derivadas\n",
    "derived_columns = [\n",
    "    'day_of_week',  'day_of_month', \n",
    "    'moving_avg_7', 'moving_avg_30', 'moving_avg_90'\n",
    "]\n",
    "\n",
    "# Filtrando apenas as variáveis derivadas\n",
    "df_derived = df[derived_columns]\n",
    "\n",
    "# Exibindo as primeiras linhas das variáveis derivadas\n",
    "print(df_derived.head())"
   ]
  },
  {
   "cell_type": "code",
   "execution_count": 42,
   "id": "12a4c3ca",
   "metadata": {},
   "outputs": [],
   "source": [
    "scaler = StandardScaler()\n",
    "# Separar variáveis independentes (apenas as derivadas)\n",
    "X_derived = df_derived\n",
    "\n",
    "# Variável dependente (preço)\n",
    "y = df['price (usd)']\n",
    "\n",
    "# Dividir em treino e teste\n",
    "X_train, X_test, y_train, y_test = train_test_split(X_derived, y, test_size=0.3, shuffle=False)\n",
    "\n",
    "# Normalizar as variáveis independentes\n",
    "X_train_scaled = scaler.fit_transform(X_train)\n",
    "X_test_scaled = scaler.transform(X_test)"
   ]
  },
  {
   "cell_type": "code",
   "execution_count": 43,
   "id": "c7aebb46",
   "metadata": {},
   "outputs": [
    {
     "name": "stdout",
     "output_type": "stream",
     "text": [
      "Mean Squared Error (Random Forest): 380683.3870979732\n",
      "Root Mean Squared Error (RMSE) (Random Forest): 380683.3870979732\n",
      "Mean Absolute Error (MAE) (Random Forest): 464.16382092243003\n",
      "R² (Random Forest): 0.9500704896683985\n"
     ]
    }
   ],
   "source": [
    "# Inicializar e treinar o modelo de regressão linear\n",
    "linear_model = LinearRegression()\n",
    "linear_model.fit(X_train, y_train)\n",
    "\n",
    "# Prever no conjunto de teste\n",
    "y_pred = linear_model.predict(X_test)\n",
    "\n",
    "# Avaliar o modelo\n",
    "mse = mean_squared_error(y_test, y_pred)\n",
    "rmse = np.sqrt(mse)\n",
    "mae = mean_absolute_error(y_test, y_pred)\n",
    "r2 = r2_score(y_test, y_pred)\n",
    "\n",
    "print(f'Mean Squared Error (Random Forest): {mse}')\n",
    "print(f'Root Mean Squared Error (RMSE) (Random Forest): {mse}')\n",
    "print(f'Mean Absolute Error (MAE) (Random Forest): {mae}')\n",
    "print(f'R² (Random Forest): {r2}')"
   ]
  },
  {
   "cell_type": "code",
   "execution_count": 44,
   "id": "6432cbc3",
   "metadata": {},
   "outputs": [
    {
     "name": "stdout",
     "output_type": "stream",
     "text": [
      "------ XGBoost Results ------\n",
      "Mean Squared Error (XGBoost): 1063933.1473117762\n",
      "Root Mean Squared Error (RMSE) (XGBoost): 1031.4713506984942\n",
      "Mean Absolute Error (MAE) (XGBoost): 813.6469017215838\n",
      "R² (XGBoost): 0.8604571072150169\n",
      "\n",
      "------ Gradient Boosting Results ------\n",
      "Mean Squared Error (Gradient Boosting): 6311664.69069127\n",
      "Root Mean Squared Error (RMSE) (Gradient Boosting): 2512.302667015117\n",
      "Mean Absolute Error (MAE) (Gradient Boosting): 2137.9348077680534\n",
      "R² (Gradient Boosting): 0.17217735770967546\n"
     ]
    }
   ],
   "source": [
    "from xgboost import XGBRegressor\n",
    "from sklearn.ensemble import GradientBoostingRegressor\n",
    "\n",
    "# ------------------ Treinamento com XGBoost ------------------\n",
    "xgb_model = XGBRegressor(n_estimators=100, learning_rate=0.4, random_state=42)\n",
    "xgb_model.fit(X_train, y_train)\n",
    "\n",
    "# Previsão com XGBoost\n",
    "xgb_y_pred = xgb_model.predict(X_test)\n",
    "\n",
    "# Avaliação do XGBoost\n",
    "xgb_mse = mean_squared_error(y_test, xgb_y_pred)\n",
    "xgb_rmse = np.sqrt(xgb_mse)\n",
    "xgb_mae = mean_absolute_error(y_test, xgb_y_pred)\n",
    "xgb_r2 = r2_score(y_test, xgb_y_pred)\n",
    "\n",
    "print(\"------ XGBoost Results ------\")\n",
    "print(f'Mean Squared Error (XGBoost): {xgb_mse}')\n",
    "print(f'Root Mean Squared Error (RMSE) (XGBoost): {xgb_rmse}')\n",
    "print(f'Mean Absolute Error (MAE) (XGBoost): {xgb_mae}')\n",
    "print(f'R² (XGBoost): {xgb_r2}')\n",
    "\n",
    "\n",
    "# ------------------ Treinamento com Gradient Boosting ------------------\n",
    "gb_model = GradientBoostingRegressor(n_estimators=10, learning_rate=0.01, random_state=42)\n",
    "gb_model.fit(X_train, y_train)\n",
    "\n",
    "# Previsão com Gradient Boosting\n",
    "gb_y_pred = gb_model.predict(X_test)\n",
    "\n",
    "# Avaliação do Gradient Boosting\n",
    "gb_mse = mean_squared_error(y_test, gb_y_pred)\n",
    "gb_rmse = np.sqrt(gb_mse)\n",
    "gb_mae = mean_absolute_error(y_test, gb_y_pred)\n",
    "gb_r2 = r2_score(y_test, gb_y_pred)\n",
    "\n",
    "print(\"\\n------ Gradient Boosting Results ------\")\n",
    "print(f'Mean Squared Error (Gradient Boosting): {gb_mse}')\n",
    "print(f'Root Mean Squared Error (RMSE) (Gradient Boosting): {gb_rmse}')\n",
    "print(f'Mean Absolute Error (MAE) (Gradient Boosting): {gb_mae}')\n",
    "print(f'R² (Gradient Boosting): {gb_r2}')"
   ]
  },
  {
   "cell_type": "code",
   "execution_count": 46,
   "id": "f17de3f3",
   "metadata": {},
   "outputs": [
    {
     "name": "stdout",
     "output_type": "stream",
     "text": [
      "Modelo salvo localmente em: ../models/rl_model.joblib\n"
     ]
    }
   ],
   "source": [
    "import joblib\n",
    "import os\n",
    "\n",
    "# Caminho local para salvar o modelo\n",
    "local_model_path = '../models/rl_model.joblib'\n",
    "\n",
    "\n",
    "# Salvar o modelo\n",
    "joblib.dump(linear_model, local_model_path)\n",
    "\n",
    "print(f\"Modelo salvo localmente em: {local_model_path}\")\n"
   ]
  },
  {
   "cell_type": "code",
   "execution_count": 143,
   "id": "a2c84b5b",
   "metadata": {},
   "outputs": [],
   "source": [
    "import boto3\n",
    "\n",
    "class S3Services:\n",
    "    def __init__(self, bucket_name):\n",
    "        self.s3_client = boto3.client('s3')\n",
    "        self.bucket_name = bucket_name\n",
    "\n",
    "    def upload_file(self, file_name, s3_key):\n",
    "        \"\"\"\n",
    "        Faz upload de um arquivo para um bucket S3.\n",
    "        :param file_name: Caminho local do arquivo.\n",
    "        :param s3_key: Caminho no S3 onde o arquivo será salvo.\n",
    "        \"\"\"\n",
    "        try:\n",
    "            self.s3_client.upload_file(file_name, self.bucket_name, s3_key)\n",
    "            print(f\"Arquivo {file_name} enviado com sucesso para {s3_key}.\")\n",
    "        except Exception as e:\n",
    "            print(f\"Erro ao enviar o arquivo para o S3: {str(e)}\")"
   ]
  },
  {
   "cell_type": "code",
   "execution_count": 144,
   "id": "74031bd9",
   "metadata": {},
   "outputs": [
    {
     "name": "stdout",
     "output_type": "stream",
     "text": [
      "Arquivo ../models/rl_model.pkl enviado com sucesso para ml_models/rl_model.pkl.\n"
     ]
    }
   ],
   "source": [
    "# Inicializar o serviço S3\n",
    "bucket_name = 'my-firehose-bucket'  # Substitua pelo nome do seu bucket S3\n",
    "s3_service = S3Services(bucket_name)\n",
    "\n",
    "# Caminho no S3 onde o arquivo será salvo\n",
    "s3_model_path = 'ml_models/rl_model.pkl'\n",
    "\n",
    "# Upload do modelo para o S3\n",
    "s3_service.upload_file(local_model_path, s3_model_path)"
   ]
  },
  {
   "cell_type": "code",
   "execution_count": 145,
   "id": "8a202ce2",
   "metadata": {},
   "outputs": [
    {
     "data": {
      "text/plain": [
       "Index(['day_of_week', 'day_of_month', 'moving_avg_7', 'moving_avg_30',\n",
       "       'moving_avg_90'],\n",
       "      dtype='object')"
      ]
     },
     "execution_count": 145,
     "metadata": {},
     "output_type": "execute_result"
    }
   ],
   "source": [
    "X_train.columns"
   ]
  }
 ],
 "metadata": {
  "kernelspec": {
   "display_name": ".venv",
   "language": "python",
   "name": "python3"
  },
  "language_info": {
   "codemirror_mode": {
    "name": "ipython",
    "version": 3
   },
   "file_extension": ".py",
   "mimetype": "text/x-python",
   "name": "python",
   "nbconvert_exporter": "python",
   "pygments_lexer": "ipython3",
   "version": "3.10.12"
  }
 },
 "nbformat": 4,
 "nbformat_minor": 5
}
