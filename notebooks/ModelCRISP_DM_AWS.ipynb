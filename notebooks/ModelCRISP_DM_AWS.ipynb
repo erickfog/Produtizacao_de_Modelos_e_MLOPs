{
 "cells": [
  {
   "cell_type": "markdown",
   "id": "afbfb0d6",
   "metadata": {},
   "source": [
    "# PASSO 00 IMPORTS"
   ]
  },
  {
   "cell_type": "code",
   "execution_count": 65,
   "id": "ad0eb614",
   "metadata": {},
   "outputs": [],
   "source": [
    "import pandas as pd\n",
    "import numpy as np\n",
    "import matplotlib.pyplot as plt\n",
    "from datetime import datetime\n",
    "from statsmodels.tsa.arima.model import ARIMA\n",
    "from sklearn.metrics import mean_absolute_error\n",
    "import boto3\n",
    "from sklearn.preprocessing import StandardScaler\n",
    "from sklearn.linear_model import LinearRegression\n",
    "from sklearn.ensemble import RandomForestRegressor\n",
    "from sklearn.metrics import mean_squared_error, mean_absolute_error, r2_score\n"
   ]
  },
  {
   "cell_type": "markdown",
   "id": "f4ab616a",
   "metadata": {},
   "source": [
    "# PASSO 01 DATA DESCRIPTION"
   ]
  },
  {
   "cell_type": "code",
   "execution_count": 5,
   "id": "f3543296",
   "metadata": {},
   "outputs": [],
   "source": [
    "import pandas as pd\n",
    "from sklearn.model_selection import train_test_split\n",
    "from sklearn.preprocessing import StandardScaler\n",
    "\n",
    "# Carregar os dados (supondo que já tenha sido coletado)\n",
    "df = pd.read_parquet('../data/raw/historical_data.parquet')"
   ]
  },
  {
   "cell_type": "code",
   "execution_count": 40,
   "id": "0cae4420",
   "metadata": {},
   "outputs": [],
   "source": [
    "from pyathena import connect\n",
    "import pandas as pd\n",
    "\n",
    "def query_athena(query, database, region='us-east-1', output_location='s3://my-firehose-bucket/query_results/'):\n",
    "    \"\"\"\n",
    "    Executa uma query no AWS Athena e retorna os resultados em um DataFrame do Pandas.\n",
    "\n",
    "    :param query: A consulta SQL a ser executada no Athena.\n",
    "    :param database: O nome do banco de dados no Athena.\n",
    "    :param region: A região AWS onde o Athena está configurado.\n",
    "    :param output_location: O local no S3 para onde os resultados da query serão salvos.\n",
    "    :return: DataFrame com os resultados da consulta.\n",
    "    \"\"\"\n",
    "    # Conexão com Athena\n",
    "    conn = connect(s3_staging_dir=output_location, region_name=region, database=database)\n",
    "    \n",
    "    # Executando a query e retornando o resultado como um DataFrame\n",
    "    df = pd.read_sql(query, conn)\n",
    "    \n",
    "    return df\n"
   ]
  },
  {
   "cell_type": "code",
   "execution_count": 42,
   "id": "68d76b8a",
   "metadata": {},
   "outputs": [
    {
     "name": "stderr",
     "output_type": "stream",
     "text": [
      "/tmp/ipykernel_373847/3728450170.py:18: UserWarning: pandas only supports SQLAlchemy connectable (engine/connection) or database string URI or sqlite3 DBAPI2 connection. Other DBAPI2 objects are not tested. Please consider using SQLAlchemy.\n",
      "  df = pd.read_sql(query, conn)\n"
     ]
    },
    {
     "name": "stdout",
     "output_type": "stream",
     "text": [
      "                  timestamp    price (usd)\n",
      "0   2024-11-17 22:12:00.543   89066.663848\n",
      "1   2024-11-17 23:11:49.126   89574.747275\n",
      "2   2024-11-18 00:07:35.977   89794.981793\n",
      "3   2024-11-18 01:01:06.793   89903.467214\n",
      "4   2024-11-18 02:03:56.913   90801.317670\n",
      "..                      ...            ...\n",
      "715 2024-12-17 18:00:09.610  107473.874029\n",
      "716 2024-12-17 19:03:53.037  106620.368592\n",
      "717 2024-12-17 20:02:40.683  106495.852000\n",
      "718 2024-12-17 21:00:58.374  106867.016362\n",
      "719 2024-12-17 21:19:56.000  106672.038239\n",
      "\n",
      "[720 rows x 2 columns]\n"
     ]
    }
   ],
   "source": [
    "query = 'SELECT * FROM \"btc_data\".\"btc_last_year\"'\n",
    "database = 'btc_data'\n",
    "  # Defina seu bucket S3 para os resultados da query\n",
    "\n",
    "df = query_athena(query, database)\n",
    "\n",
    "# Exibindo o resultado\n",
    "print(df)\n"
   ]
  },
  {
   "cell_type": "markdown",
   "id": "033aa1ea",
   "metadata": {},
   "source": [
    "# FEATURE ENGINEERING"
   ]
  },
  {
   "cell_type": "code",
   "execution_count": 119,
   "id": "b66fffe4",
   "metadata": {},
   "outputs": [
    {
     "name": "stderr",
     "output_type": "stream",
     "text": [
      "/tmp/ipykernel_373847/1191623834.py:1: SettingWithCopyWarning: \n",
      "A value is trying to be set on a copy of a slice from a DataFrame.\n",
      "Try using .loc[row_indexer,col_indexer] = value instead\n",
      "\n",
      "See the caveats in the documentation: https://pandas.pydata.org/pandas-docs/stable/user_guide/indexing.html#returning-a-view-versus-a-copy\n",
      "  df['day_of_week'] = df['timestamp'].dt.dayofweek\n",
      "/tmp/ipykernel_373847/1191623834.py:5: SettingWithCopyWarning: \n",
      "A value is trying to be set on a copy of a slice from a DataFrame.\n",
      "Try using .loc[row_indexer,col_indexer] = value instead\n",
      "\n",
      "See the caveats in the documentation: https://pandas.pydata.org/pandas-docs/stable/user_guide/indexing.html#returning-a-view-versus-a-copy\n",
      "  df['day_of_month'] = df['timestamp'].dt.day\n"
     ]
    }
   ],
   "source": [
    "df['day_of_week'] = df['timestamp'].dt.dayofweek\n",
    "\n",
    "\n",
    "# Extrair o número do dia no mês\n",
    "df['day_of_month'] = df['timestamp'].dt.day"
   ]
  },
  {
   "cell_type": "code",
   "execution_count": 120,
   "id": "c6995d9f",
   "metadata": {},
   "outputs": [
    {
     "name": "stderr",
     "output_type": "stream",
     "text": [
      "/tmp/ipykernel_373847/3424091257.py:2: SettingWithCopyWarning: \n",
      "A value is trying to be set on a copy of a slice from a DataFrame.\n",
      "Try using .loc[row_indexer,col_indexer] = value instead\n",
      "\n",
      "See the caveats in the documentation: https://pandas.pydata.org/pandas-docs/stable/user_guide/indexing.html#returning-a-view-versus-a-copy\n",
      "  df['moving_avg_7'] = df['price (usd)'].rolling(window=7).mean()\n",
      "/tmp/ipykernel_373847/3424091257.py:5: SettingWithCopyWarning: \n",
      "A value is trying to be set on a copy of a slice from a DataFrame.\n",
      "Try using .loc[row_indexer,col_indexer] = value instead\n",
      "\n",
      "See the caveats in the documentation: https://pandas.pydata.org/pandas-docs/stable/user_guide/indexing.html#returning-a-view-versus-a-copy\n",
      "  df['moving_avg_30'] = df['price (usd)'].rolling(window=30).mean()\n",
      "/tmp/ipykernel_373847/3424091257.py:8: SettingWithCopyWarning: \n",
      "A value is trying to be set on a copy of a slice from a DataFrame.\n",
      "Try using .loc[row_indexer,col_indexer] = value instead\n",
      "\n",
      "See the caveats in the documentation: https://pandas.pydata.org/pandas-docs/stable/user_guide/indexing.html#returning-a-view-versus-a-copy\n",
      "  df['moving_avg_90'] = df['price (usd)'].rolling(window=90).mean()\n"
     ]
    }
   ],
   "source": [
    "# Média móvel de 7 dias (curto prazo)\n",
    "df['moving_avg_7'] = df['price (usd)'].rolling(window=7).mean()\n",
    "\n",
    "# Média móvel de 30 dias (médio prazo)\n",
    "df['moving_avg_30'] = df['price (usd)'].rolling(window=30).mean()\n",
    "\n",
    "# Média móvel de 90 dias (longo prazo)\n",
    "df['moving_avg_90'] = df['price (usd)'].rolling(window=90).mean()"
   ]
  },
  {
   "cell_type": "code",
   "execution_count": 121,
   "id": "76f3bd08",
   "metadata": {},
   "outputs": [
    {
     "name": "stderr",
     "output_type": "stream",
     "text": [
      "/tmp/ipykernel_373847/91719867.py:2: SettingWithCopyWarning: \n",
      "A value is trying to be set on a copy of a slice from a DataFrame.\n",
      "Try using .loc[row_indexer,col_indexer] = value instead\n",
      "\n",
      "See the caveats in the documentation: https://pandas.pydata.org/pandas-docs/stable/user_guide/indexing.html#returning-a-view-versus-a-copy\n",
      "  df['daily_return'] = df['price (usd)'].pct_change()\n",
      "/tmp/ipykernel_373847/91719867.py:5: SettingWithCopyWarning: \n",
      "A value is trying to be set on a copy of a slice from a DataFrame.\n",
      "Try using .loc[row_indexer,col_indexer] = value instead\n",
      "\n",
      "See the caveats in the documentation: https://pandas.pydata.org/pandas-docs/stable/user_guide/indexing.html#returning-a-view-versus-a-copy\n",
      "  df['daily_return_abs'] = df['price (usd)'].diff()\n"
     ]
    }
   ],
   "source": [
    "# Calcular a variação percentual diária (retorno)\n",
    "df['daily_return'] = df['price (usd)'].pct_change()\n",
    "\n",
    "# Calcular a variação absoluta diária\n",
    "df['daily_return_abs'] = df['price (usd)'].diff()"
   ]
  },
  {
   "cell_type": "code",
   "execution_count": 122,
   "id": "5e6ee270",
   "metadata": {},
   "outputs": [
    {
     "name": "stderr",
     "output_type": "stream",
     "text": [
      "/tmp/ipykernel_373847/4287875491.py:1: SettingWithCopyWarning: \n",
      "A value is trying to be set on a copy of a slice from a DataFrame.\n",
      "Try using .loc[row_indexer,col_indexer] = value instead\n",
      "\n",
      "See the caveats in the documentation: https://pandas.pydata.org/pandas-docs/stable/user_guide/indexing.html#returning-a-view-versus-a-copy\n",
      "  df['volatility'] = df['daily_return'].rolling(window=30).std()\n"
     ]
    }
   ],
   "source": [
    "df['volatility'] = df['daily_return'].rolling(window=30).std()"
   ]
  },
  {
   "cell_type": "code",
   "execution_count": 123,
   "id": "bf5abd9f",
   "metadata": {},
   "outputs": [
    {
     "name": "stderr",
     "output_type": "stream",
     "text": [
      "/tmp/ipykernel_373847/3570803778.py:10: SettingWithCopyWarning: \n",
      "A value is trying to be set on a copy of a slice from a DataFrame.\n",
      "Try using .loc[row_indexer,col_indexer] = value instead\n",
      "\n",
      "See the caveats in the documentation: https://pandas.pydata.org/pandas-docs/stable/user_guide/indexing.html#returning-a-view-versus-a-copy\n",
      "  df['RSI_14'] = calculate_rsi(df['price (usd)'], window=14)\n"
     ]
    }
   ],
   "source": [
    "# Função para calcular o RSI\n",
    "def calculate_rsi(data, window):\n",
    "    delta = data.diff()\n",
    "    gain = (delta.where(delta > 0, 0)).rolling(window=window).mean()\n",
    "    loss = (-delta.where(delta < 0, 0)).rolling(window=window).mean()\n",
    "    rs = gain / loss\n",
    "    return 100 - (100 / (1 + rs))\n",
    "\n",
    "# Calcular o RSI de 14 dias\n",
    "df['RSI_14'] = calculate_rsi(df['price (usd)'], window=14)"
   ]
  },
  {
   "cell_type": "code",
   "execution_count": 124,
   "id": "85bbbf54",
   "metadata": {},
   "outputs": [
    {
     "name": "stderr",
     "output_type": "stream",
     "text": [
      "/tmp/ipykernel_373847/1185787216.py:2: SettingWithCopyWarning: \n",
      "A value is trying to be set on a copy of a slice from a DataFrame.\n",
      "Try using .loc[row_indexer,col_indexer] = value instead\n",
      "\n",
      "See the caveats in the documentation: https://pandas.pydata.org/pandas-docs/stable/user_guide/indexing.html#returning-a-view-versus-a-copy\n",
      "  df['ema_7'] = df['price (usd)'].ewm(span=7, adjust=False).mean()\n",
      "/tmp/ipykernel_373847/1185787216.py:5: SettingWithCopyWarning: \n",
      "A value is trying to be set on a copy of a slice from a DataFrame.\n",
      "Try using .loc[row_indexer,col_indexer] = value instead\n",
      "\n",
      "See the caveats in the documentation: https://pandas.pydata.org/pandas-docs/stable/user_guide/indexing.html#returning-a-view-versus-a-copy\n",
      "  df['ema_30'] = df['price (usd)'].ewm(span=30, adjust=False).mean()\n"
     ]
    }
   ],
   "source": [
    "# Média exponencial de 7 dias\n",
    "df['ema_7'] = df['price (usd)'].ewm(span=7, adjust=False).mean()\n",
    "\n",
    "# Média exponencial de 30 dias\n",
    "df['ema_30'] = df['price (usd)'].ewm(span=30, adjust=False).mean()"
   ]
  },
  {
   "cell_type": "markdown",
   "id": "0f767b68",
   "metadata": {},
   "source": [
    "# Variable Filtering"
   ]
  },
  {
   "cell_type": "code",
   "execution_count": 125,
   "id": "6fc8e750",
   "metadata": {},
   "outputs": [],
   "source": [
    "df = df.dropna()"
   ]
  },
  {
   "cell_type": "code",
   "execution_count": 137,
   "id": "2b51385c",
   "metadata": {},
   "outputs": [
    {
     "name": "stdout",
     "output_type": "stream",
     "text": [
      "     day_of_week  day_of_month  moving_avg_7  moving_avg_30  moving_avg_90\n",
      "178            0            25  98062.335735   97616.479249   98184.505194\n",
      "179            0            25  98209.079158   97618.809577   98203.762841\n",
      "180            0            25  98288.869779   97626.316327   98222.998790\n",
      "181            0            25  98330.577655   97623.906333   98234.567381\n",
      "182            0            25  98216.174337   97597.870450   98229.295823\n"
     ]
    }
   ],
   "source": [
    "# Lista das variáveis derivadas\n",
    "derived_columns = [\n",
    "    'day_of_week',  'day_of_month', \n",
    "    'moving_avg_7', 'moving_avg_30', 'moving_avg_90'\n",
    "]\n",
    "\n",
    "# Filtrando apenas as variáveis derivadas\n",
    "df_derived = df[derived_columns]\n",
    "\n",
    "# Exibindo as primeiras linhas das variáveis derivadas\n",
    "print(df_derived.head())"
   ]
  },
  {
   "cell_type": "code",
   "execution_count": 138,
   "id": "12a4c3ca",
   "metadata": {},
   "outputs": [],
   "source": [
    "scaler = StandardScaler()\n",
    "# Separar variáveis independentes (apenas as derivadas)\n",
    "X_derived = df_derived\n",
    "\n",
    "# Variável dependente (preço)\n",
    "y = df['price (usd)']\n",
    "\n",
    "# Dividir em treino e teste\n",
    "X_train, X_test, y_train, y_test = train_test_split(X_derived, y, test_size=0.3, shuffle=False)\n",
    "\n",
    "# Normalizar as variáveis independentes\n",
    "X_train_scaled = scaler.fit_transform(X_train)\n",
    "X_test_scaled = scaler.transform(X_test)"
   ]
  },
  {
   "cell_type": "code",
   "execution_count": 139,
   "id": "c7aebb46",
   "metadata": {},
   "outputs": [
    {
     "name": "stdout",
     "output_type": "stream",
     "text": [
      "Mean Squared Error (Random Forest): 768278.257355873\n",
      "Root Mean Squared Error (RMSE) (Random Forest): 768278.257355873\n",
      "Mean Absolute Error (MAE) (Random Forest): 663.6880838194778\n",
      "R² (Random Forest): 0.8887768247628055\n"
     ]
    }
   ],
   "source": [
    "# Inicializar e treinar o modelo de regressão linear\n",
    "linear_model = LinearRegression()\n",
    "linear_model.fit(X_train, y_train)\n",
    "\n",
    "# Prever no conjunto de teste\n",
    "y_pred = linear_model.predict(X_test)\n",
    "\n",
    "# Avaliar o modelo\n",
    "mse = mean_squared_error(y_test, y_pred)\n",
    "rmse = np.sqrt(mse)\n",
    "mae = mean_absolute_error(y_test, y_pred)\n",
    "r2 = r2_score(y_test, y_pred)\n",
    "\n",
    "print(f'Mean Squared Error (Random Forest): {mse}')\n",
    "print(f'Root Mean Squared Error (RMSE) (Random Forest): {mse}')\n",
    "print(f'Mean Absolute Error (MAE) (Random Forest): {mae}')\n",
    "print(f'R² (Random Forest): {r2}')"
   ]
  },
  {
   "cell_type": "code",
   "execution_count": 150,
   "id": "6432cbc3",
   "metadata": {},
   "outputs": [
    {
     "name": "stdout",
     "output_type": "stream",
     "text": [
      "------ XGBoost Results ------\n",
      "Mean Squared Error (XGBoost): 24375259.972185727\n",
      "Root Mean Squared Error (RMSE) (XGBoost): 4937.130742869357\n",
      "Mean Absolute Error (MAE) (XGBoost): 4086.4106113158796\n",
      "R² (XGBoost): -2.5287915353340327\n",
      "\n",
      "------ Gradient Boosting Results ------\n",
      "Mean Squared Error (Gradient Boosting): 32738091.838436842\n",
      "Root Mean Squared Error (RMSE) (Gradient Boosting): 5721.721055629752\n",
      "Mean Absolute Error (MAE) (Gradient Boosting): 5096.995023140828\n",
      "R² (Gradient Boosting): -3.7394736094831043\n"
     ]
    }
   ],
   "source": [
    "from xgboost import XGBRegressor\n",
    "from sklearn.ensemble import GradientBoostingRegressor\n",
    "\n",
    "# ------------------ Treinamento com XGBoost ------------------\n",
    "xgb_model = XGBRegressor(n_estimators=100, learning_rate=0.4, random_state=42)\n",
    "xgb_model.fit(X_train, y_train)\n",
    "\n",
    "# Previsão com XGBoost\n",
    "xgb_y_pred = xgb_model.predict(X_test)\n",
    "\n",
    "# Avaliação do XGBoost\n",
    "xgb_mse = mean_squared_error(y_test, xgb_y_pred)\n",
    "xgb_rmse = np.sqrt(xgb_mse)\n",
    "xgb_mae = mean_absolute_error(y_test, xgb_y_pred)\n",
    "xgb_r2 = r2_score(y_test, xgb_y_pred)\n",
    "\n",
    "print(\"------ XGBoost Results ------\")\n",
    "print(f'Mean Squared Error (XGBoost): {xgb_mse}')\n",
    "print(f'Root Mean Squared Error (RMSE) (XGBoost): {xgb_rmse}')\n",
    "print(f'Mean Absolute Error (MAE) (XGBoost): {xgb_mae}')\n",
    "print(f'R² (XGBoost): {xgb_r2}')\n",
    "\n",
    "\n",
    "# ------------------ Treinamento com Gradient Boosting ------------------\n",
    "gb_model = GradientBoostingRegressor(n_estimators=10, learning_rate=0.01, random_state=42)\n",
    "gb_model.fit(X_train, y_train)\n",
    "\n",
    "# Previsão com Gradient Boosting\n",
    "gb_y_pred = gb_model.predict(X_test)\n",
    "\n",
    "# Avaliação do Gradient Boosting\n",
    "gb_mse = mean_squared_error(y_test, gb_y_pred)\n",
    "gb_rmse = np.sqrt(gb_mse)\n",
    "gb_mae = mean_absolute_error(y_test, gb_y_pred)\n",
    "gb_r2 = r2_score(y_test, gb_y_pred)\n",
    "\n",
    "print(\"\\n------ Gradient Boosting Results ------\")\n",
    "print(f'Mean Squared Error (Gradient Boosting): {gb_mse}')\n",
    "print(f'Root Mean Squared Error (RMSE) (Gradient Boosting): {gb_rmse}')\n",
    "print(f'Mean Absolute Error (MAE) (Gradient Boosting): {gb_mae}')\n",
    "print(f'R² (Gradient Boosting): {gb_r2}')"
   ]
  },
  {
   "cell_type": "code",
   "execution_count": 142,
   "id": "f17de3f3",
   "metadata": {},
   "outputs": [
    {
     "name": "stdout",
     "output_type": "stream",
     "text": [
      "Modelo salvo localmente em: ../models/rl_model.pkl\n"
     ]
    }
   ],
   "source": [
    "import joblib\n",
    "import os\n",
    "\n",
    "# Caminho local para salvar o modelo\n",
    "local_model_path = '../models/rl_model.pkl'\n",
    "\n",
    "\n",
    "# Salvar o modelo\n",
    "joblib.dump(linear_model, local_model_path)\n",
    "\n",
    "print(f\"Modelo salvo localmente em: {local_model_path}\")\n"
   ]
  },
  {
   "cell_type": "code",
   "execution_count": 143,
   "id": "a2c84b5b",
   "metadata": {},
   "outputs": [],
   "source": [
    "import boto3\n",
    "\n",
    "class S3Services:\n",
    "    def __init__(self, bucket_name):\n",
    "        self.s3_client = boto3.client('s3')\n",
    "        self.bucket_name = bucket_name\n",
    "\n",
    "    def upload_file(self, file_name, s3_key):\n",
    "        \"\"\"\n",
    "        Faz upload de um arquivo para um bucket S3.\n",
    "        :param file_name: Caminho local do arquivo.\n",
    "        :param s3_key: Caminho no S3 onde o arquivo será salvo.\n",
    "        \"\"\"\n",
    "        try:\n",
    "            self.s3_client.upload_file(file_name, self.bucket_name, s3_key)\n",
    "            print(f\"Arquivo {file_name} enviado com sucesso para {s3_key}.\")\n",
    "        except Exception as e:\n",
    "            print(f\"Erro ao enviar o arquivo para o S3: {str(e)}\")"
   ]
  },
  {
   "cell_type": "code",
   "execution_count": 144,
   "id": "74031bd9",
   "metadata": {},
   "outputs": [
    {
     "name": "stdout",
     "output_type": "stream",
     "text": [
      "Arquivo ../models/rl_model.pkl enviado com sucesso para ml_models/rl_model.pkl.\n"
     ]
    }
   ],
   "source": [
    "# Inicializar o serviço S3\n",
    "bucket_name = 'my-firehose-bucket'  # Substitua pelo nome do seu bucket S3\n",
    "s3_service = S3Services(bucket_name)\n",
    "\n",
    "# Caminho no S3 onde o arquivo será salvo\n",
    "s3_model_path = 'ml_models/rl_model.pkl'\n",
    "\n",
    "# Upload do modelo para o S3\n",
    "s3_service.upload_file(local_model_path, s3_model_path)"
   ]
  },
  {
   "cell_type": "code",
   "execution_count": 145,
   "id": "8a202ce2",
   "metadata": {},
   "outputs": [
    {
     "data": {
      "text/plain": [
       "Index(['day_of_week', 'day_of_month', 'moving_avg_7', 'moving_avg_30',\n",
       "       'moving_avg_90'],\n",
       "      dtype='object')"
      ]
     },
     "execution_count": 145,
     "metadata": {},
     "output_type": "execute_result"
    }
   ],
   "source": [
    "X_train.columns"
   ]
  }
 ],
 "metadata": {
  "kernelspec": {
   "display_name": ".venv",
   "language": "python",
   "name": "python3"
  },
  "language_info": {
   "codemirror_mode": {
    "name": "ipython",
    "version": 3
   },
   "file_extension": ".py",
   "mimetype": "text/x-python",
   "name": "python",
   "nbconvert_exporter": "python",
   "pygments_lexer": "ipython3",
   "version": "3.10.12"
  }
 },
 "nbformat": 4,
 "nbformat_minor": 5
}
