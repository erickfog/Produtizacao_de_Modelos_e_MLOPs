{
 "cells": [
  {
   "cell_type": "markdown",
   "id": "afbfb0d6",
   "metadata": {},
   "source": [
    "# PASSO 00 IMPORTS"
   ]
  },
  {
   "cell_type": "code",
   "execution_count": 2,
   "id": "ad0eb614",
   "metadata": {},
   "outputs": [
    {
     "data": {
      "text/plain": [
       "<Experiment: artifact_location='mlflow-artifacts:/783824972131025485', creation_time=1737229390822, experiment_id='783824972131025485', last_update_time=1737229390822, lifecycle_stage='active', name='mlflow bitcoin', tags={}>"
      ]
     },
     "execution_count": 2,
     "metadata": {},
     "output_type": "execute_result"
    }
   ],
   "source": [
    "import pandas as pd\n",
    "import matplotlib.pyplot as plt\n",
    "from datetime import datetime\n",
    "from sklearn.metrics import mean_absolute_error\n",
    "import boto3\n",
    "from sklearn.linear_model import LinearRegression\n",
    "from sklearn.metrics import mean_squared_error, mean_absolute_error, r2_score\n",
    "\n",
    "\n",
    "import requests\n",
    "from datetime import datetime\n",
    "import boto3\n",
    "\n",
    "import mlflow\n",
    "\n",
    "mlflow.set_tracking_uri(uri=\"http://127.0.0.1:5000\")\n",
    "mlflow.set_experiment(\"mlflow bitcoin\")\n"
   ]
  },
  {
   "cell_type": "markdown",
   "id": "f4ab616a",
   "metadata": {},
   "source": [
    "# PASSO 01 DATA DESCRIPTION"
   ]
  },
  {
   "cell_type": "code",
   "execution_count": 22,
   "id": "0206b6ad",
   "metadata": {},
   "outputs": [],
   "source": [
    "def get_historical_data(coin, days):\n",
    "    url = f'https://api.coingecko.com/api/v3/coins/{coin}/market_chart?vs_currency=usd&days={days}'\n",
    "    try:\n",
    "        response = requests.get(url)\n",
    "        response.raise_for_status()\n",
    "        data = response.json()\n",
    "        prices = data['prices']\n",
    "        df = pd.DataFrame(prices, columns=[\"Timestamp\", \"Price (USD)\"])\n",
    "        df['Timestamp'] = pd.to_datetime(df['Timestamp'], unit='ms')\n",
    "        return df\n",
    "    except Exception as e:\n",
    "        st.error(f\"Erro ao buscar dados históricos: {e}\")\n",
    "        return pd.DataFrame()"
   ]
  },
  {
   "cell_type": "code",
   "execution_count": 60,
   "id": "85572c01",
   "metadata": {},
   "outputs": [],
   "source": [
    "historical_data = get_historical_data('bitcoin',days=120)\n",
    "historical_data.to_parquet('../data/raw/historical_data.parquet')"
   ]
  },
  {
   "cell_type": "code",
   "execution_count": 24,
   "id": "f3543296",
   "metadata": {},
   "outputs": [],
   "source": [
    "import pandas as pd\n",
    "from sklearn.model_selection import train_test_split\n",
    "from sklearn.preprocessing import StandardScaler\n",
    "\n",
    "# Carregar os dados (supondo que já tenha sido coletado)\n",
    "df_principal = pd.read_parquet('../data/raw/historical_data.parquet')"
   ]
  },
  {
   "cell_type": "markdown",
   "id": "033aa1ea",
   "metadata": {},
   "source": [
    "# FEATURE ENGINEERING"
   ]
  },
  {
   "cell_type": "code",
   "execution_count": 25,
   "id": "23890e74",
   "metadata": {},
   "outputs": [
    {
     "data": {
      "text/html": [
       "<div>\n",
       "<style scoped>\n",
       "    .dataframe tbody tr th:only-of-type {\n",
       "        vertical-align: middle;\n",
       "    }\n",
       "\n",
       "    .dataframe tbody tr th {\n",
       "        vertical-align: top;\n",
       "    }\n",
       "\n",
       "    .dataframe thead th {\n",
       "        text-align: right;\n",
       "    }\n",
       "</style>\n",
       "<table border=\"1\" class=\"dataframe\">\n",
       "  <thead>\n",
       "    <tr style=\"text-align: right;\">\n",
       "      <th></th>\n",
       "      <th>Timestamp</th>\n",
       "      <th>Price (USD)</th>\n",
       "    </tr>\n",
       "  </thead>\n",
       "  <tbody>\n",
       "    <tr>\n",
       "      <th>0</th>\n",
       "      <td>2024-11-09 00:21:53.106</td>\n",
       "      <td>76610.794662</td>\n",
       "    </tr>\n",
       "    <tr>\n",
       "      <th>1</th>\n",
       "      <td>2024-11-09 01:05:36.731</td>\n",
       "      <td>76471.113084</td>\n",
       "    </tr>\n",
       "    <tr>\n",
       "      <th>2</th>\n",
       "      <td>2024-11-09 02:16:27.972</td>\n",
       "      <td>76319.475094</td>\n",
       "    </tr>\n",
       "    <tr>\n",
       "      <th>3</th>\n",
       "      <td>2024-11-09 03:04:47.155</td>\n",
       "      <td>76474.132328</td>\n",
       "    </tr>\n",
       "    <tr>\n",
       "      <th>4</th>\n",
       "      <td>2024-11-09 04:10:55.085</td>\n",
       "      <td>76433.619276</td>\n",
       "    </tr>\n",
       "  </tbody>\n",
       "</table>\n",
       "</div>"
      ],
      "text/plain": [
       "                Timestamp   Price (USD)\n",
       "0 2024-11-09 00:21:53.106  76610.794662\n",
       "1 2024-11-09 01:05:36.731  76471.113084\n",
       "2 2024-11-09 02:16:27.972  76319.475094\n",
       "3 2024-11-09 03:04:47.155  76474.132328\n",
       "4 2024-11-09 04:10:55.085  76433.619276"
      ]
     },
     "execution_count": 25,
     "metadata": {},
     "output_type": "execute_result"
    }
   ],
   "source": [
    "df = df_principal.copy()\n",
    "df.head()"
   ]
  },
  {
   "cell_type": "code",
   "execution_count": 26,
   "id": "e9eb8b79",
   "metadata": {},
   "outputs": [
    {
     "data": {
      "text/html": [
       "<div>\n",
       "<style scoped>\n",
       "    .dataframe tbody tr th:only-of-type {\n",
       "        vertical-align: middle;\n",
       "    }\n",
       "\n",
       "    .dataframe tbody tr th {\n",
       "        vertical-align: top;\n",
       "    }\n",
       "\n",
       "    .dataframe thead th {\n",
       "        text-align: right;\n",
       "    }\n",
       "</style>\n",
       "<table border=\"1\" class=\"dataframe\">\n",
       "  <thead>\n",
       "    <tr style=\"text-align: right;\">\n",
       "      <th></th>\n",
       "      <th>timestamp</th>\n",
       "      <th>price (usd)</th>\n",
       "    </tr>\n",
       "  </thead>\n",
       "  <tbody>\n",
       "    <tr>\n",
       "      <th>0</th>\n",
       "      <td>2024-11-09 00:21:53.106</td>\n",
       "      <td>76610.794662</td>\n",
       "    </tr>\n",
       "    <tr>\n",
       "      <th>1</th>\n",
       "      <td>2024-11-09 01:05:36.731</td>\n",
       "      <td>76471.113084</td>\n",
       "    </tr>\n",
       "    <tr>\n",
       "      <th>2</th>\n",
       "      <td>2024-11-09 02:16:27.972</td>\n",
       "      <td>76319.475094</td>\n",
       "    </tr>\n",
       "    <tr>\n",
       "      <th>3</th>\n",
       "      <td>2024-11-09 03:04:47.155</td>\n",
       "      <td>76474.132328</td>\n",
       "    </tr>\n",
       "    <tr>\n",
       "      <th>4</th>\n",
       "      <td>2024-11-09 04:10:55.085</td>\n",
       "      <td>76433.619276</td>\n",
       "    </tr>\n",
       "    <tr>\n",
       "      <th>...</th>\n",
       "      <td>...</td>\n",
       "      <td>...</td>\n",
       "    </tr>\n",
       "    <tr>\n",
       "      <th>2153</th>\n",
       "      <td>2025-02-06 20:04:01.843</td>\n",
       "      <td>95967.150040</td>\n",
       "    </tr>\n",
       "    <tr>\n",
       "      <th>2154</th>\n",
       "      <td>2025-02-06 21:03:56.060</td>\n",
       "      <td>96900.668886</td>\n",
       "    </tr>\n",
       "    <tr>\n",
       "      <th>2155</th>\n",
       "      <td>2025-02-06 22:01:12.092</td>\n",
       "      <td>96784.585045</td>\n",
       "    </tr>\n",
       "    <tr>\n",
       "      <th>2156</th>\n",
       "      <td>2025-02-06 23:04:09.795</td>\n",
       "      <td>96928.851576</td>\n",
       "    </tr>\n",
       "    <tr>\n",
       "      <th>2157</th>\n",
       "      <td>2025-02-06 23:43:53.000</td>\n",
       "      <td>96212.417301</td>\n",
       "    </tr>\n",
       "  </tbody>\n",
       "</table>\n",
       "<p>2158 rows × 2 columns</p>\n",
       "</div>"
      ],
      "text/plain": [
       "                   timestamp   price (usd)\n",
       "0    2024-11-09 00:21:53.106  76610.794662\n",
       "1    2024-11-09 01:05:36.731  76471.113084\n",
       "2    2024-11-09 02:16:27.972  76319.475094\n",
       "3    2024-11-09 03:04:47.155  76474.132328\n",
       "4    2024-11-09 04:10:55.085  76433.619276\n",
       "...                      ...           ...\n",
       "2153 2025-02-06 20:04:01.843  95967.150040\n",
       "2154 2025-02-06 21:03:56.060  96900.668886\n",
       "2155 2025-02-06 22:01:12.092  96784.585045\n",
       "2156 2025-02-06 23:04:09.795  96928.851576\n",
       "2157 2025-02-06 23:43:53.000  96212.417301\n",
       "\n",
       "[2158 rows x 2 columns]"
      ]
     },
     "execution_count": 26,
     "metadata": {},
     "output_type": "execute_result"
    }
   ],
   "source": [
    "df = df.rename(columns={\"Timestamp\":\"timestamp\",\"Price (USD)\":\"price (usd)\"})\n",
    "df"
   ]
  },
  {
   "cell_type": "code",
   "execution_count": 27,
   "id": "b66fffe4",
   "metadata": {},
   "outputs": [],
   "source": [
    "df['day_of_week'] = df['timestamp'].dt.dayofweek\n",
    "\n",
    "\n",
    "# Extrair o número do dia no mês\n",
    "df['day_of_month'] = df['timestamp'].dt.day"
   ]
  },
  {
   "cell_type": "code",
   "execution_count": 28,
   "id": "c6995d9f",
   "metadata": {},
   "outputs": [],
   "source": [
    "# Média móvel de 7 dias (curto prazo)\n",
    "df['moving_avg_7'] = df['price (usd)'].rolling(window=7).mean()\n",
    "\n",
    "# Média móvel de 30 dias (médio prazo)\n",
    "df['moving_avg_30'] = df['price (usd)'].rolling(window=30).mean()\n",
    "\n",
    "# Média móvel de 90 dias (longo prazo)\n",
    "df['moving_avg_90'] = df['price (usd)'].rolling(window=90).mean()"
   ]
  },
  {
   "cell_type": "code",
   "execution_count": 29,
   "id": "76f3bd08",
   "metadata": {},
   "outputs": [],
   "source": [
    "# Calcular a variação percentual diária (retorno)\n",
    "df['daily_return'] = df['price (usd)'].pct_change()\n",
    "\n",
    "# Calcular a variação absoluta diária\n",
    "df['daily_return_abs'] = df['price (usd)'].diff()"
   ]
  },
  {
   "cell_type": "code",
   "execution_count": 30,
   "id": "5e6ee270",
   "metadata": {},
   "outputs": [],
   "source": [
    "df['volatility'] = df['daily_return'].rolling(window=30).std()"
   ]
  },
  {
   "cell_type": "code",
   "execution_count": 31,
   "id": "bf5abd9f",
   "metadata": {},
   "outputs": [],
   "source": [
    "# Função para calcular o RSI\n",
    "def calculate_rsi(data, window):\n",
    "    delta = data.diff()\n",
    "    gain = (delta.where(delta > 0, 0)).rolling(window=window).mean()\n",
    "    loss = (-delta.where(delta < 0, 0)).rolling(window=window).mean()\n",
    "    rs = gain / loss\n",
    "    return 100 - (100 / (1 + rs))\n",
    "\n",
    "# Calcular o RSI de 14 dias\n",
    "df['RSI_14'] = calculate_rsi(df['price (usd)'], window=14)"
   ]
  },
  {
   "cell_type": "code",
   "execution_count": 32,
   "id": "85bbbf54",
   "metadata": {},
   "outputs": [],
   "source": [
    "# Média exponencial de 7 dias\n",
    "df['ema_7'] = df['price (usd)'].ewm(span=7, adjust=False).mean()\n",
    "\n",
    "# Média exponencial de 30 dias\n",
    "df['ema_30'] = df['price (usd)'].ewm(span=30, adjust=False).mean()"
   ]
  },
  {
   "cell_type": "markdown",
   "id": "0f767b68",
   "metadata": {},
   "source": [
    "# Variable Filtering"
   ]
  },
  {
   "cell_type": "code",
   "execution_count": 33,
   "id": "6fc8e750",
   "metadata": {},
   "outputs": [],
   "source": [
    "df = df.dropna()"
   ]
  },
  {
   "cell_type": "code",
   "execution_count": 34,
   "id": "2b51385c",
   "metadata": {},
   "outputs": [
    {
     "name": "stdout",
     "output_type": "stream",
     "text": [
      "    day_of_week  day_of_month  moving_avg_7  moving_avg_30  moving_avg_90\n",
      "89            1            12  86846.315863   86625.368402   81193.817851\n",
      "90            1            12  86988.100807   86794.615540   81312.837614\n",
      "91            1            12  87164.572402   87036.036285   81452.299710\n",
      "92            1            12  87493.347694   87255.061419   81590.430469\n",
      "93            1            12  88018.413476   87477.746320   81736.776979\n"
     ]
    }
   ],
   "source": [
    "# Lista das variáveis derivadas\n",
    "derived_columns = [\n",
    "    'day_of_week',  'day_of_month', \n",
    "    'moving_avg_7', 'moving_avg_30', 'moving_avg_90'\n",
    "]\n",
    "\n",
    "# Filtrando apenas as variáveis derivadas\n",
    "df_derived = df[derived_columns]\n",
    "\n",
    "# Exibindo as primeiras linhas das variáveis derivadas\n",
    "print(df_derived.head())"
   ]
  },
  {
   "cell_type": "markdown",
   "id": "c30d7a35",
   "metadata": {},
   "source": [
    "# Machine Learning Modelling"
   ]
  },
  {
   "cell_type": "code",
   "execution_count": 35,
   "id": "12a4c3ca",
   "metadata": {},
   "outputs": [],
   "source": [
    "scaler = StandardScaler()\n",
    "# Separar variáveis independentes (apenas as derivadas)\n",
    "X_derived = df_derived\n",
    "\n",
    "# Variável dependente (preço)\n",
    "y = df['price (usd)']\n",
    "\n",
    "# Dividir em treino e teste\n",
    "X_train, X_test, y_train, y_test = train_test_split(X_derived, y, test_size=0.3, shuffle=False)\n",
    "\n",
    "# Normalizar as variáveis independentes\n",
    "X_train_scaled = scaler.fit_transform(X_train)\n",
    "X_test_scaled = scaler.transform(X_test)"
   ]
  },
  {
   "cell_type": "code",
   "execution_count": 42,
   "id": "c7aebb46",
   "metadata": {},
   "outputs": [
    {
     "name": "stderr",
     "output_type": "stream",
     "text": [
      "2025/02/06 20:57:39 WARNING mlflow.utils.autologging_utils: MLflow sklearn autologging is known to be compatible with 0.24.1 <= scikit-learn <= 1.5.2, but the installed version is 1.6.0. If you encounter errors during autologging, try upgrading / downgrading scikit-learn to a compatible version, or try upgrading MLflow.\n",
      "2025/02/06 20:57:39 INFO mlflow.tracking.fluent: Autologging successfully enabled for sklearn.\n",
      "2025/02/06 20:57:39 INFO mlflow.tracking.fluent: Autologging successfully enabled for xgboost.\n",
      "2025/02/06 20:57:39 WARNING mlflow.system_metrics.system_metrics_monitor: Skip logging GPU metrics because creating `GPUMonitor` failed with error: `pynvml` is not installed, to log GPU metrics please run `pip install pynvml` to install it..\n",
      "2025/02/06 20:57:39 INFO mlflow.system_metrics.system_metrics_monitor: Started monitoring system metrics.\n",
      "2025/02/06 20:57:39 WARNING mlflow.utils.autologging_utils: MLflow autologging encountered a warning: \"/home/erickfog/ada_tech/Cursos/Produtizacao_de_Modelos_e_MLOPs/.venv/lib/python3.10/site-packages/mlflow/types/utils.py:435: UserWarning: Hint: Inferred schema contains integer column(s). Integer columns in Python cannot represent missing values. If your input data contains missing values at inference time, it will be encoded as floats and will cause a schema enforcement error. The best way to avoid this problem is to infer the model schema based on a realistic data sample (training dataset) that includes missing values. Alternatively, you can declare integer columns as doubles (float64) whenever these columns may have missing values. See `Handling Integers With Missing Values <https://www.mlflow.org/docs/latest/models.html#handling-integers-with-missing-values>`_ for more details.\"\n",
      "2025/02/06 20:57:39 WARNING mlflow.utils.autologging_utils: MLflow autologging encountered a warning: \"/home/erickfog/ada_tech/Cursos/Produtizacao_de_Modelos_e_MLOPs/.venv/lib/python3.10/site-packages/mlflow/types/utils.py:435: UserWarning: Hint: Inferred schema contains integer column(s). Integer columns in Python cannot represent missing values. If your input data contains missing values at inference time, it will be encoded as floats and will cause a schema enforcement error. The best way to avoid this problem is to infer the model schema based on a realistic data sample (training dataset) that includes missing values. Alternatively, you can declare integer columns as doubles (float64) whenever these columns may have missing values. See `Handling Integers With Missing Values <https://www.mlflow.org/docs/latest/models.html#handling-integers-with-missing-values>`_ for more details.\"\n",
      "2025/02/06 20:57:41 WARNING mlflow.utils.autologging_utils: MLflow autologging encountered a warning: \"/home/erickfog/ada_tech/Cursos/Produtizacao_de_Modelos_e_MLOPs/.venv/lib/python3.10/site-packages/mlflow/types/utils.py:435: UserWarning: Hint: Inferred schema contains integer column(s). Integer columns in Python cannot represent missing values. If your input data contains missing values at inference time, it will be encoded as floats and will cause a schema enforcement error. The best way to avoid this problem is to infer the model schema based on a realistic data sample (training dataset) that includes missing values. Alternatively, you can declare integer columns as doubles (float64) whenever these columns may have missing values. See `Handling Integers With Missing Values <https://www.mlflow.org/docs/latest/models.html#handling-integers-with-missing-values>`_ for more details.\"\n",
      "2025/02/06 20:57:41 INFO mlflow.system_metrics.system_metrics_monitor: Stopping system metrics monitoring...\n",
      "2025/02/06 20:57:41 INFO mlflow.system_metrics.system_metrics_monitor: Successfully terminated system metrics monitoring!\n"
     ]
    },
    {
     "name": "stdout",
     "output_type": "stream",
     "text": [
      "Mean Squared Error (Linear Regression): 790461.2210352609\n",
      "Root Mean Squared Error (RMSE) (Linear Regression): 889.0788609764945\n",
      "Mean Absolute Error (MAE) (Linear Regression): 609.1081115820318\n",
      "R² (Linear Regression): 0.9439018722223753\n",
      "🏃 View run intelligent-rook-501 at: http://127.0.0.1:5000/#/experiments/783824972131025485/runs/cab2b7bd29ec49bca8a3861d65456dce\n",
      "🧪 View experiment at: http://127.0.0.1:5000/#/experiments/783824972131025485\n"
     ]
    }
   ],
   "source": [
    "import numpy as np\n",
    "def treinar_modelo(X_train, y_train):\n",
    "    modelo = LinearRegression()\n",
    "    modelo.fit(X_train, y_train)\n",
    "    return modelo\n",
    "\n",
    "def avaliar_modelo(modelo, X_test, y_test):\n",
    "    y_pred = modelo.predict(X_test)\n",
    "    mse = mean_squared_error(y_test, y_pred)\n",
    "    rmse = np.sqrt(mse)\n",
    "    mae = mean_absolute_error(y_test, y_pred)\n",
    "    r2 = r2_score(y_test, y_pred)\n",
    "    return mse, rmse, mae, r2\n",
    "\n",
    "mlflow.autolog()\n",
    "with mlflow.start_run(log_system_metrics=True):\n",
    "     # Idealmente, chame isso antes do start_run\n",
    "    modelo = treinar_modelo(X_train, y_train)\n",
    "    mse, rmse, mae, r2 = avaliar_modelo(modelo, X_test, y_test)\n",
    "    \n",
    "    print(f'Mean Squared Error (Linear Regression): {mse}')\n",
    "    print(f'Root Mean Squared Error (RMSE) (Linear Regression): {rmse}')\n",
    "    print(f'Mean Absolute Error (MAE) (Linear Regression): {mae}')\n",
    "    print(f'R² (Linear Regression): {r2}')\n"
   ]
  },
  {
   "cell_type": "code",
   "execution_count": 44,
   "id": "95590007",
   "metadata": {},
   "outputs": [
    {
     "data": {
      "text/plain": [
       "Index(['day_of_week', 'day_of_month', 'moving_avg_7', 'moving_avg_30',\n",
       "       'moving_avg_90'],\n",
       "      dtype='object')"
      ]
     },
     "execution_count": 44,
     "metadata": {},
     "output_type": "execute_result"
    }
   ],
   "source": [
    "X_train.columns"
   ]
  },
  {
   "cell_type": "code",
   "execution_count": 58,
   "id": "651d8ea1",
   "metadata": {},
   "outputs": [],
   "source": [
    "#mlflow models serve   -m mlflow-artifacts:/783824972131025485/cab2b7bd29ec49bca8a3861d65456dce/artifacts/model   --no-conda   --port 5001"
   ]
  },
  {
   "cell_type": "code",
   "execution_count": 59,
   "id": "7fe6fa8a",
   "metadata": {},
   "outputs": [
    {
     "name": "stdout",
     "output_type": "stream",
     "text": [
      "{'predictions': [96383.70687179628]}\n"
     ]
    }
   ],
   "source": [
    "import requests\n",
    "\n",
    "# Defina os dados aninhados na chave \"inputs\"\n",
    "payload = {\n",
    "    \"dataframe_split\": {\n",
    "        \"columns\": ['day_of_week', 'day_of_month', 'moving_avg_7', 'moving_avg_30', 'moving_avg_90'],\n",
    "        \"data\": [[5, 6, 94472.382736, 94472.382736, 94378.144222]]\n",
    "    }\n",
    "}\n",
    "\n",
    "# Envie a requisição POST para o endpoint do MLflow\n",
    "response = requests.post(\"http://localhost:5001/invocations\", json=payload)\n",
    "\n",
    "# Imprima a resposta (as predições retornadas pelo modelo)\n",
    "print(response.json())\n"
   ]
  },
  {
   "cell_type": "code",
   "execution_count": null,
   "id": "9814b989",
   "metadata": {},
   "outputs": [],
   "source": []
  }
 ],
 "metadata": {
  "kernelspec": {
   "display_name": ".venv",
   "language": "python",
   "name": "python3"
  },
  "language_info": {
   "codemirror_mode": {
    "name": "ipython",
    "version": 3
   },
   "file_extension": ".py",
   "mimetype": "text/x-python",
   "name": "python",
   "nbconvert_exporter": "python",
   "pygments_lexer": "ipython3",
   "version": "3.10.12"
  }
 },
 "nbformat": 4,
 "nbformat_minor": 5
}
